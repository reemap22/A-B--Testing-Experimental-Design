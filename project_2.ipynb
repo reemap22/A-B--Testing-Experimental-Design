{
  "nbformat": 4,
  "nbformat_minor": 0,
  "metadata": {
    "colab": {
      "provenance": [],
      "toc_visible": true,
      "authorship_tag": "ABX9TyMHHsq+H3NvAdva6KCHZMRB",
      "include_colab_link": true
    },
    "kernelspec": {
      "name": "python3",
      "display_name": "Python 3"
    },
    "language_info": {
      "name": "python"
    }
  },
  "cells": [
    {
      "cell_type": "markdown",
      "metadata": {
        "id": "view-in-github",
        "colab_type": "text"
      },
      "source": [
        "<a href=\"https://colab.research.google.com/github/reemap22/A-B--Testing-Experimental-Design/blob/main/project_2.ipynb\" target=\"_parent\"><img src=\"https://colab.research.google.com/assets/colab-badge.svg\" alt=\"Open In Colab\"/></a>"
      ]
    },
    {
      "cell_type": "markdown",
      "source": [
        "\n",
        "#Eniac's Case\n",
        "The Marketing Team Lead is convinced that offering discounts is beneficial in the long run. She believes discounts improve customer acquisition, satisfaction and retention, and allow the company to grow.\n",
        "\n",
        "The main investors in the Board are worried about offering aggressive discounts. They have pointed out how the company’s recent quarterly results showed an increase in orders placed, but a decrease in the total revenue. They prefer that the company positions itself in the quality segment, rather than competing to offer the lowest prices in the market.\n",
        "\n"
      ],
      "metadata": {
        "id": "qZVEN_ZGyuhX"
      }
    },
    {
      "cell_type": "code",
      "execution_count": null,
      "metadata": {
        "id": "MQAlktJoe01P"
      },
      "outputs": [],
      "source": [
        "# import libraries\n",
        "#import pandas as pd\n",
        "\n",
        "# load data\n",
        "# This code is made to load our data stored on Google Drive\n",
        "#def gd_path(file_id):\n",
        "#   \"\"\"Generate a shareable link from Google Drive file id.\"\"\"\n",
        " #   return f\"https://drive.google.com/uc?export=download&id={file_id}\"\n",
        "# Google Drive file ids\n",
        "#files_id = {\n",
        " #   \"brands\": \"1AHtE3qOb2Nubb-fLYeQJboB-D2Vei0zk\",\n",
        " #   \"orderlines\": \"1qufluxQRg542jbZwagauE_CoSuU0-hj3\",\n",
        "  #  \"orders\": \"1D4fEvw2btogR1A0LJhD9fbKz3bguuawr\",\n",
        " #   \"products\": \"1Wo-YHFbe7e2TGTQlXMzQja1phz2HSSmg\",\n",
        "#}\n",
        "\n",
        "# Read data from Google Drive\n",
        "#brands = pd.read_csv(gd_path(files_id[\"brands\"]), sep=\",\")\n",
        "#orderlines = pd.read_csv(gd_path(files_id[\"orderlines\"]), sep=\",\")\n",
        "#orders = pd.read_csv(gd_path(files_id[\"orders\"]), sep=\",\")\n",
        "#products = pd.read_csv(gd_path(files_id[\"products\"]), sep=\",\")\n"
      ]
    },
    {
      "cell_type": "code",
      "source": [
        "import pandas as pd"
      ],
      "metadata": {
        "id": "mHO2in0zKseX"
      },
      "execution_count": null,
      "outputs": []
    },
    {
      "cell_type": "code",
      "source": [
        "url = \"https://drive.google.com/file/d/1tsCP3YUGmxp3i0I5lRs7_8XDMYWTd4HJ/view?usp=drive_link\"\n",
        "path = \"https://drive.google.com/uc?export=download&id=\"+url.split(\"/\")[-2]\n",
        "products = pd.read_csv(path)\n",
        "\n",
        "url = \"https://drive.google.com/file/d/1PtPPww7U-gxm_JolJsU23Z9WBa_oBvaZ/view?usp=drive_link\"\n",
        "path = \"https://drive.google.com/uc?export=download&id=\"+url.split(\"/\")[-2]\n",
        "orders = pd.read_csv(path)\n",
        "\n",
        "url = \"https://drive.google.com/file/d/1HJaRmWsQL4aeU6umdedPpUj__mWV_5kQ/view?usp=drive_link\"\n",
        "path = \"https://drive.google.com/uc?export=download&id=\"+url.split(\"/\")[-2]\n",
        "orderlines = pd.read_csv(path)\n",
        "\n",
        "url = \"https://drive.google.com/file/d/1228LW6cfSlNFVTlLqH4CzO71dJKi8iqu/view?usp=drive_link\"\n",
        "path = \"https://drive.google.com/uc?export=download&id=\" + url.split(\"/\")[-2]\n",
        "brands = pd.read_csv(path)"
      ],
      "metadata": {
        "id": "L8TT5eoU4kTu"
      },
      "execution_count": null,
      "outputs": []
    },
    {
      "cell_type": "markdown",
      "source": [
        "##brands"
      ],
      "metadata": {
        "id": "f2CPM7Pzziwm"
      }
    },
    {
      "cell_type": "code",
      "source": [
        "brands"
      ],
      "metadata": {
        "colab": {
          "base_uri": "https://localhost:8080/",
          "height": 424
        },
        "id": "_pfSkXXxq40g",
        "outputId": "8f8164bd-f5de-47b5-ab31-3ca05868a850"
      },
      "execution_count": null,
      "outputs": [
        {
          "output_type": "execute_result",
          "data": {
            "text/plain": [
              "    short       long\n",
              "0     8MO  8Mobility\n",
              "1     ACM       Acme\n",
              "2     ADN     Adonit\n",
              "3     AII      Aiino\n",
              "4     AKI     Akitio\n",
              "..    ...        ...\n",
              "182   XOO     Xoopar\n",
              "183   XRI     X-Rite\n",
              "184   XTO      Xtorm\n",
              "185   ZAG   ZaggKeys\n",
              "186   ZEP       Zepp\n",
              "\n",
              "[187 rows x 2 columns]"
            ],
            "text/html": [
              "\n",
              "  <div id=\"df-481a67bd-41de-4d98-a1c9-6d490fa6701f\">\n",
              "    <div class=\"colab-df-container\">\n",
              "      <div>\n",
              "<style scoped>\n",
              "    .dataframe tbody tr th:only-of-type {\n",
              "        vertical-align: middle;\n",
              "    }\n",
              "\n",
              "    .dataframe tbody tr th {\n",
              "        vertical-align: top;\n",
              "    }\n",
              "\n",
              "    .dataframe thead th {\n",
              "        text-align: right;\n",
              "    }\n",
              "</style>\n",
              "<table border=\"1\" class=\"dataframe\">\n",
              "  <thead>\n",
              "    <tr style=\"text-align: right;\">\n",
              "      <th></th>\n",
              "      <th>short</th>\n",
              "      <th>long</th>\n",
              "    </tr>\n",
              "  </thead>\n",
              "  <tbody>\n",
              "    <tr>\n",
              "      <th>0</th>\n",
              "      <td>8MO</td>\n",
              "      <td>8Mobility</td>\n",
              "    </tr>\n",
              "    <tr>\n",
              "      <th>1</th>\n",
              "      <td>ACM</td>\n",
              "      <td>Acme</td>\n",
              "    </tr>\n",
              "    <tr>\n",
              "      <th>2</th>\n",
              "      <td>ADN</td>\n",
              "      <td>Adonit</td>\n",
              "    </tr>\n",
              "    <tr>\n",
              "      <th>3</th>\n",
              "      <td>AII</td>\n",
              "      <td>Aiino</td>\n",
              "    </tr>\n",
              "    <tr>\n",
              "      <th>4</th>\n",
              "      <td>AKI</td>\n",
              "      <td>Akitio</td>\n",
              "    </tr>\n",
              "    <tr>\n",
              "      <th>...</th>\n",
              "      <td>...</td>\n",
              "      <td>...</td>\n",
              "    </tr>\n",
              "    <tr>\n",
              "      <th>182</th>\n",
              "      <td>XOO</td>\n",
              "      <td>Xoopar</td>\n",
              "    </tr>\n",
              "    <tr>\n",
              "      <th>183</th>\n",
              "      <td>XRI</td>\n",
              "      <td>X-Rite</td>\n",
              "    </tr>\n",
              "    <tr>\n",
              "      <th>184</th>\n",
              "      <td>XTO</td>\n",
              "      <td>Xtorm</td>\n",
              "    </tr>\n",
              "    <tr>\n",
              "      <th>185</th>\n",
              "      <td>ZAG</td>\n",
              "      <td>ZaggKeys</td>\n",
              "    </tr>\n",
              "    <tr>\n",
              "      <th>186</th>\n",
              "      <td>ZEP</td>\n",
              "      <td>Zepp</td>\n",
              "    </tr>\n",
              "  </tbody>\n",
              "</table>\n",
              "<p>187 rows × 2 columns</p>\n",
              "</div>\n",
              "      <button class=\"colab-df-convert\" onclick=\"convertToInteractive('df-481a67bd-41de-4d98-a1c9-6d490fa6701f')\"\n",
              "              title=\"Convert this dataframe to an interactive table.\"\n",
              "              style=\"display:none;\">\n",
              "        \n",
              "  <svg xmlns=\"http://www.w3.org/2000/svg\" height=\"24px\"viewBox=\"0 0 24 24\"\n",
              "       width=\"24px\">\n",
              "    <path d=\"M0 0h24v24H0V0z\" fill=\"none\"/>\n",
              "    <path d=\"M18.56 5.44l.94 2.06.94-2.06 2.06-.94-2.06-.94-.94-2.06-.94 2.06-2.06.94zm-11 1L8.5 8.5l.94-2.06 2.06-.94-2.06-.94L8.5 2.5l-.94 2.06-2.06.94zm10 10l.94 2.06.94-2.06 2.06-.94-2.06-.94-.94-2.06-.94 2.06-2.06.94z\"/><path d=\"M17.41 7.96l-1.37-1.37c-.4-.4-.92-.59-1.43-.59-.52 0-1.04.2-1.43.59L10.3 9.45l-7.72 7.72c-.78.78-.78 2.05 0 2.83L4 21.41c.39.39.9.59 1.41.59.51 0 1.02-.2 1.41-.59l7.78-7.78 2.81-2.81c.8-.78.8-2.07 0-2.86zM5.41 20L4 18.59l7.72-7.72 1.47 1.35L5.41 20z\"/>\n",
              "  </svg>\n",
              "      </button>\n",
              "      \n",
              "  <style>\n",
              "    .colab-df-container {\n",
              "      display:flex;\n",
              "      flex-wrap:wrap;\n",
              "      gap: 12px;\n",
              "    }\n",
              "\n",
              "    .colab-df-convert {\n",
              "      background-color: #E8F0FE;\n",
              "      border: none;\n",
              "      border-radius: 50%;\n",
              "      cursor: pointer;\n",
              "      display: none;\n",
              "      fill: #1967D2;\n",
              "      height: 32px;\n",
              "      padding: 0 0 0 0;\n",
              "      width: 32px;\n",
              "    }\n",
              "\n",
              "    .colab-df-convert:hover {\n",
              "      background-color: #E2EBFA;\n",
              "      box-shadow: 0px 1px 2px rgba(60, 64, 67, 0.3), 0px 1px 3px 1px rgba(60, 64, 67, 0.15);\n",
              "      fill: #174EA6;\n",
              "    }\n",
              "\n",
              "    [theme=dark] .colab-df-convert {\n",
              "      background-color: #3B4455;\n",
              "      fill: #D2E3FC;\n",
              "    }\n",
              "\n",
              "    [theme=dark] .colab-df-convert:hover {\n",
              "      background-color: #434B5C;\n",
              "      box-shadow: 0px 1px 3px 1px rgba(0, 0, 0, 0.15);\n",
              "      filter: drop-shadow(0px 1px 2px rgba(0, 0, 0, 0.3));\n",
              "      fill: #FFFFFF;\n",
              "    }\n",
              "  </style>\n",
              "\n",
              "      <script>\n",
              "        const buttonEl =\n",
              "          document.querySelector('#df-481a67bd-41de-4d98-a1c9-6d490fa6701f button.colab-df-convert');\n",
              "        buttonEl.style.display =\n",
              "          google.colab.kernel.accessAllowed ? 'block' : 'none';\n",
              "\n",
              "        async function convertToInteractive(key) {\n",
              "          const element = document.querySelector('#df-481a67bd-41de-4d98-a1c9-6d490fa6701f');\n",
              "          const dataTable =\n",
              "            await google.colab.kernel.invokeFunction('convertToInteractive',\n",
              "                                                     [key], {});\n",
              "          if (!dataTable) return;\n",
              "\n",
              "          const docLinkHtml = 'Like what you see? Visit the ' +\n",
              "            '<a target=\"_blank\" href=https://colab.research.google.com/notebooks/data_table.ipynb>data table notebook</a>'\n",
              "            + ' to learn more about interactive tables.';\n",
              "          element.innerHTML = '';\n",
              "          dataTable['output_type'] = 'display_data';\n",
              "          await google.colab.output.renderOutput(dataTable, element);\n",
              "          const docLink = document.createElement('div');\n",
              "          docLink.innerHTML = docLinkHtml;\n",
              "          element.appendChild(docLink);\n",
              "        }\n",
              "      </script>\n",
              "    </div>\n",
              "  </div>\n",
              "  "
            ]
          },
          "metadata": {},
          "execution_count": 4
        }
      ]
    },
    {
      "cell_type": "markdown",
      "source": [
        "##orders"
      ],
      "metadata": {
        "id": "xcr46SFezfvA"
      }
    },
    {
      "cell_type": "code",
      "source": [
        "orders"
      ],
      "metadata": {
        "colab": {
          "base_uri": "https://localhost:8080/",
          "height": 424
        },
        "id": "qoJjJufGrpBq",
        "outputId": "caa087e2-e2c1-405c-8ecc-290b89a314cf"
      },
      "execution_count": null,
      "outputs": [
        {
          "output_type": "execute_result",
          "data": {
            "text/plain": [
              "        order_id         created_date  total_paid            state\n",
              "0         241319  2017-01-02 13:35:40       44.99        Cancelled\n",
              "1         241423  2017-11-06 13:10:02      136.15        Completed\n",
              "2         242832  2017-12-31 17:40:03       15.76        Completed\n",
              "3         243330  2017-02-16 10:59:38       84.98        Completed\n",
              "4         243784  2017-11-24 13:35:19      157.86        Cancelled\n",
              "...          ...                  ...         ...              ...\n",
              "226904    527397  2018-03-14 13:56:38       42.99      Place Order\n",
              "226905    527398  2018-03-14 13:57:25       42.99  Shopping Basket\n",
              "226906    527399  2018-03-14 13:57:34      141.58  Shopping Basket\n",
              "226907    527400  2018-03-14 13:57:41       19.98  Shopping Basket\n",
              "226908    527401  2018-03-14 13:58:36       18.98      Place Order\n",
              "\n",
              "[226909 rows x 4 columns]"
            ],
            "text/html": [
              "\n",
              "  <div id=\"df-de1c683a-556a-4ec9-9295-a2431a5feae0\">\n",
              "    <div class=\"colab-df-container\">\n",
              "      <div>\n",
              "<style scoped>\n",
              "    .dataframe tbody tr th:only-of-type {\n",
              "        vertical-align: middle;\n",
              "    }\n",
              "\n",
              "    .dataframe tbody tr th {\n",
              "        vertical-align: top;\n",
              "    }\n",
              "\n",
              "    .dataframe thead th {\n",
              "        text-align: right;\n",
              "    }\n",
              "</style>\n",
              "<table border=\"1\" class=\"dataframe\">\n",
              "  <thead>\n",
              "    <tr style=\"text-align: right;\">\n",
              "      <th></th>\n",
              "      <th>order_id</th>\n",
              "      <th>created_date</th>\n",
              "      <th>total_paid</th>\n",
              "      <th>state</th>\n",
              "    </tr>\n",
              "  </thead>\n",
              "  <tbody>\n",
              "    <tr>\n",
              "      <th>0</th>\n",
              "      <td>241319</td>\n",
              "      <td>2017-01-02 13:35:40</td>\n",
              "      <td>44.99</td>\n",
              "      <td>Cancelled</td>\n",
              "    </tr>\n",
              "    <tr>\n",
              "      <th>1</th>\n",
              "      <td>241423</td>\n",
              "      <td>2017-11-06 13:10:02</td>\n",
              "      <td>136.15</td>\n",
              "      <td>Completed</td>\n",
              "    </tr>\n",
              "    <tr>\n",
              "      <th>2</th>\n",
              "      <td>242832</td>\n",
              "      <td>2017-12-31 17:40:03</td>\n",
              "      <td>15.76</td>\n",
              "      <td>Completed</td>\n",
              "    </tr>\n",
              "    <tr>\n",
              "      <th>3</th>\n",
              "      <td>243330</td>\n",
              "      <td>2017-02-16 10:59:38</td>\n",
              "      <td>84.98</td>\n",
              "      <td>Completed</td>\n",
              "    </tr>\n",
              "    <tr>\n",
              "      <th>4</th>\n",
              "      <td>243784</td>\n",
              "      <td>2017-11-24 13:35:19</td>\n",
              "      <td>157.86</td>\n",
              "      <td>Cancelled</td>\n",
              "    </tr>\n",
              "    <tr>\n",
              "      <th>...</th>\n",
              "      <td>...</td>\n",
              "      <td>...</td>\n",
              "      <td>...</td>\n",
              "      <td>...</td>\n",
              "    </tr>\n",
              "    <tr>\n",
              "      <th>226904</th>\n",
              "      <td>527397</td>\n",
              "      <td>2018-03-14 13:56:38</td>\n",
              "      <td>42.99</td>\n",
              "      <td>Place Order</td>\n",
              "    </tr>\n",
              "    <tr>\n",
              "      <th>226905</th>\n",
              "      <td>527398</td>\n",
              "      <td>2018-03-14 13:57:25</td>\n",
              "      <td>42.99</td>\n",
              "      <td>Shopping Basket</td>\n",
              "    </tr>\n",
              "    <tr>\n",
              "      <th>226906</th>\n",
              "      <td>527399</td>\n",
              "      <td>2018-03-14 13:57:34</td>\n",
              "      <td>141.58</td>\n",
              "      <td>Shopping Basket</td>\n",
              "    </tr>\n",
              "    <tr>\n",
              "      <th>226907</th>\n",
              "      <td>527400</td>\n",
              "      <td>2018-03-14 13:57:41</td>\n",
              "      <td>19.98</td>\n",
              "      <td>Shopping Basket</td>\n",
              "    </tr>\n",
              "    <tr>\n",
              "      <th>226908</th>\n",
              "      <td>527401</td>\n",
              "      <td>2018-03-14 13:58:36</td>\n",
              "      <td>18.98</td>\n",
              "      <td>Place Order</td>\n",
              "    </tr>\n",
              "  </tbody>\n",
              "</table>\n",
              "<p>226909 rows × 4 columns</p>\n",
              "</div>\n",
              "      <button class=\"colab-df-convert\" onclick=\"convertToInteractive('df-de1c683a-556a-4ec9-9295-a2431a5feae0')\"\n",
              "              title=\"Convert this dataframe to an interactive table.\"\n",
              "              style=\"display:none;\">\n",
              "        \n",
              "  <svg xmlns=\"http://www.w3.org/2000/svg\" height=\"24px\"viewBox=\"0 0 24 24\"\n",
              "       width=\"24px\">\n",
              "    <path d=\"M0 0h24v24H0V0z\" fill=\"none\"/>\n",
              "    <path d=\"M18.56 5.44l.94 2.06.94-2.06 2.06-.94-2.06-.94-.94-2.06-.94 2.06-2.06.94zm-11 1L8.5 8.5l.94-2.06 2.06-.94-2.06-.94L8.5 2.5l-.94 2.06-2.06.94zm10 10l.94 2.06.94-2.06 2.06-.94-2.06-.94-.94-2.06-.94 2.06-2.06.94z\"/><path d=\"M17.41 7.96l-1.37-1.37c-.4-.4-.92-.59-1.43-.59-.52 0-1.04.2-1.43.59L10.3 9.45l-7.72 7.72c-.78.78-.78 2.05 0 2.83L4 21.41c.39.39.9.59 1.41.59.51 0 1.02-.2 1.41-.59l7.78-7.78 2.81-2.81c.8-.78.8-2.07 0-2.86zM5.41 20L4 18.59l7.72-7.72 1.47 1.35L5.41 20z\"/>\n",
              "  </svg>\n",
              "      </button>\n",
              "      \n",
              "  <style>\n",
              "    .colab-df-container {\n",
              "      display:flex;\n",
              "      flex-wrap:wrap;\n",
              "      gap: 12px;\n",
              "    }\n",
              "\n",
              "    .colab-df-convert {\n",
              "      background-color: #E8F0FE;\n",
              "      border: none;\n",
              "      border-radius: 50%;\n",
              "      cursor: pointer;\n",
              "      display: none;\n",
              "      fill: #1967D2;\n",
              "      height: 32px;\n",
              "      padding: 0 0 0 0;\n",
              "      width: 32px;\n",
              "    }\n",
              "\n",
              "    .colab-df-convert:hover {\n",
              "      background-color: #E2EBFA;\n",
              "      box-shadow: 0px 1px 2px rgba(60, 64, 67, 0.3), 0px 1px 3px 1px rgba(60, 64, 67, 0.15);\n",
              "      fill: #174EA6;\n",
              "    }\n",
              "\n",
              "    [theme=dark] .colab-df-convert {\n",
              "      background-color: #3B4455;\n",
              "      fill: #D2E3FC;\n",
              "    }\n",
              "\n",
              "    [theme=dark] .colab-df-convert:hover {\n",
              "      background-color: #434B5C;\n",
              "      box-shadow: 0px 1px 3px 1px rgba(0, 0, 0, 0.15);\n",
              "      filter: drop-shadow(0px 1px 2px rgba(0, 0, 0, 0.3));\n",
              "      fill: #FFFFFF;\n",
              "    }\n",
              "  </style>\n",
              "\n",
              "      <script>\n",
              "        const buttonEl =\n",
              "          document.querySelector('#df-de1c683a-556a-4ec9-9295-a2431a5feae0 button.colab-df-convert');\n",
              "        buttonEl.style.display =\n",
              "          google.colab.kernel.accessAllowed ? 'block' : 'none';\n",
              "\n",
              "        async function convertToInteractive(key) {\n",
              "          const element = document.querySelector('#df-de1c683a-556a-4ec9-9295-a2431a5feae0');\n",
              "          const dataTable =\n",
              "            await google.colab.kernel.invokeFunction('convertToInteractive',\n",
              "                                                     [key], {});\n",
              "          if (!dataTable) return;\n",
              "\n",
              "          const docLinkHtml = 'Like what you see? Visit the ' +\n",
              "            '<a target=\"_blank\" href=https://colab.research.google.com/notebooks/data_table.ipynb>data table notebook</a>'\n",
              "            + ' to learn more about interactive tables.';\n",
              "          element.innerHTML = '';\n",
              "          dataTable['output_type'] = 'display_data';\n",
              "          await google.colab.output.renderOutput(dataTable, element);\n",
              "          const docLink = document.createElement('div');\n",
              "          docLink.innerHTML = docLinkHtml;\n",
              "          element.appendChild(docLink);\n",
              "        }\n",
              "      </script>\n",
              "    </div>\n",
              "  </div>\n",
              "  "
            ]
          },
          "metadata": {},
          "execution_count": 5
        }
      ]
    },
    {
      "cell_type": "markdown",
      "source": [
        "###Checking for duplicated values"
      ],
      "metadata": {
        "id": "ptqcc_JO0DrG"
      }
    },
    {
      "cell_type": "code",
      "source": [
        "# orders\n",
        "orders.duplicated().sum()"
      ],
      "metadata": {
        "id": "6dVkoUu7wC-b",
        "colab": {
          "base_uri": "https://localhost:8080/"
        },
        "outputId": "51a58fc9-5af3-45a1-ecf9-ef0c80baf32c"
      },
      "execution_count": null,
      "outputs": [
        {
          "output_type": "execute_result",
          "data": {
            "text/plain": [
              "0"
            ]
          },
          "metadata": {},
          "execution_count": 6
        }
      ]
    },
    {
      "cell_type": "markdown",
      "source": [
        "###Checking for missing values\n",
        "\n",
        "\n",
        "\n"
      ],
      "metadata": {
        "id": "s6J3giTTzYOS"
      }
    },
    {
      "cell_type": "code",
      "source": [
        "orders.isnull().sum() # To find the total amount of missing values on products.\n"
      ],
      "metadata": {
        "id": "SEddmdjDg5cf",
        "colab": {
          "base_uri": "https://localhost:8080/"
        },
        "outputId": "ebc0e686-aca6-4fde-9942-c846e2c9c7e0"
      },
      "execution_count": null,
      "outputs": [
        {
          "output_type": "execute_result",
          "data": {
            "text/plain": [
              "order_id        0\n",
              "created_date    0\n",
              "total_paid      5\n",
              "state           0\n",
              "dtype: int64"
            ]
          },
          "metadata": {},
          "execution_count": 7
        }
      ]
    },
    {
      "cell_type": "code",
      "source": [
        "orders.isnull().sum() / len(orders) * 100 # To show the percentage rrepresented by this missing values\n"
      ],
      "metadata": {
        "id": "oJrWzf2Yg5co",
        "colab": {
          "base_uri": "https://localhost:8080/"
        },
        "outputId": "6b6f8e11-a4e4-4b29-ba74-fc6f73c1e923"
      },
      "execution_count": null,
      "outputs": [
        {
          "output_type": "execute_result",
          "data": {
            "text/plain": [
              "order_id        0.000000\n",
              "created_date    0.000000\n",
              "total_paid      0.002204\n",
              "state           0.000000\n",
              "dtype: float64"
            ]
          },
          "metadata": {},
          "execution_count": 9
        }
      ]
    },
    {
      "cell_type": "markdown",
      "source": [
        "As there is such a tiny amount of missing values, we will simply delete these rows, as we have enough data without them."
      ],
      "metadata": {
        "id": "gTEIL7KDcjNN"
      }
    },
    {
      "cell_type": "code",
      "source": [
        "orders = orders.loc[~orders.total_paid.isna(), :]"
      ],
      "metadata": {
        "id": "rjiQcONR0TV_"
      },
      "execution_count": null,
      "outputs": []
    },
    {
      "cell_type": "markdown",
      "source": [
        "###Changing Data Types"
      ],
      "metadata": {
        "id": "Lyt9MZayTdvo"
      }
    },
    {
      "cell_type": "markdown",
      "source": [
        "##orderlines"
      ],
      "metadata": {
        "id": "lXuuaBnMzW4F"
      }
    },
    {
      "cell_type": "code",
      "source": [
        "orderlines"
      ],
      "metadata": {
        "colab": {
          "base_uri": "https://localhost:8080/",
          "height": 424
        },
        "id": "vmsX53sBrrxA",
        "outputId": "6d9f6d51-afec-45c8-ca1b-ce3f74f6da7f"
      },
      "execution_count": null,
      "outputs": [
        {
          "output_type": "execute_result",
          "data": {
            "text/plain": [
              "             id  id_order  product_id  product_quantity      sku unit_price  \\\n",
              "0       1119109    299539           0                 1  OTT0133      18.99   \n",
              "1       1119110    299540           0                 1  LGE0043     399.00   \n",
              "2       1119111    299541           0                 1  PAR0071     474.05   \n",
              "3       1119112    299542           0                 1  WDT0315      68.39   \n",
              "4       1119113    299543           0                 1  JBL0104      23.74   \n",
              "...         ...       ...         ...               ...      ...        ...   \n",
              "293978  1650199    527398           0                 1  JBL0122      42.99   \n",
              "293979  1650200    527399           0                 1  PAC0653     141.58   \n",
              "293980  1650201    527400           0                 2  APP0698       9.99   \n",
              "293981  1650202    527388           0                 1  BEZ0204      19.99   \n",
              "293982  1650203    527401           0                 1  APP0927      13.99   \n",
              "\n",
              "                       date  \n",
              "0       2017-01-01 00:07:19  \n",
              "1       2017-01-01 00:19:45  \n",
              "2       2017-01-01 00:20:57  \n",
              "3       2017-01-01 00:51:40  \n",
              "4       2017-01-01 01:06:38  \n",
              "...                     ...  \n",
              "293978  2018-03-14 13:57:25  \n",
              "293979  2018-03-14 13:57:34  \n",
              "293980  2018-03-14 13:57:41  \n",
              "293981  2018-03-14 13:58:01  \n",
              "293982  2018-03-14 13:58:36  \n",
              "\n",
              "[293983 rows x 7 columns]"
            ],
            "text/html": [
              "\n",
              "  <div id=\"df-85c0e6aa-5821-46f1-b1f2-517f3c80092b\">\n",
              "    <div class=\"colab-df-container\">\n",
              "      <div>\n",
              "<style scoped>\n",
              "    .dataframe tbody tr th:only-of-type {\n",
              "        vertical-align: middle;\n",
              "    }\n",
              "\n",
              "    .dataframe tbody tr th {\n",
              "        vertical-align: top;\n",
              "    }\n",
              "\n",
              "    .dataframe thead th {\n",
              "        text-align: right;\n",
              "    }\n",
              "</style>\n",
              "<table border=\"1\" class=\"dataframe\">\n",
              "  <thead>\n",
              "    <tr style=\"text-align: right;\">\n",
              "      <th></th>\n",
              "      <th>id</th>\n",
              "      <th>id_order</th>\n",
              "      <th>product_id</th>\n",
              "      <th>product_quantity</th>\n",
              "      <th>sku</th>\n",
              "      <th>unit_price</th>\n",
              "      <th>date</th>\n",
              "    </tr>\n",
              "  </thead>\n",
              "  <tbody>\n",
              "    <tr>\n",
              "      <th>0</th>\n",
              "      <td>1119109</td>\n",
              "      <td>299539</td>\n",
              "      <td>0</td>\n",
              "      <td>1</td>\n",
              "      <td>OTT0133</td>\n",
              "      <td>18.99</td>\n",
              "      <td>2017-01-01 00:07:19</td>\n",
              "    </tr>\n",
              "    <tr>\n",
              "      <th>1</th>\n",
              "      <td>1119110</td>\n",
              "      <td>299540</td>\n",
              "      <td>0</td>\n",
              "      <td>1</td>\n",
              "      <td>LGE0043</td>\n",
              "      <td>399.00</td>\n",
              "      <td>2017-01-01 00:19:45</td>\n",
              "    </tr>\n",
              "    <tr>\n",
              "      <th>2</th>\n",
              "      <td>1119111</td>\n",
              "      <td>299541</td>\n",
              "      <td>0</td>\n",
              "      <td>1</td>\n",
              "      <td>PAR0071</td>\n",
              "      <td>474.05</td>\n",
              "      <td>2017-01-01 00:20:57</td>\n",
              "    </tr>\n",
              "    <tr>\n",
              "      <th>3</th>\n",
              "      <td>1119112</td>\n",
              "      <td>299542</td>\n",
              "      <td>0</td>\n",
              "      <td>1</td>\n",
              "      <td>WDT0315</td>\n",
              "      <td>68.39</td>\n",
              "      <td>2017-01-01 00:51:40</td>\n",
              "    </tr>\n",
              "    <tr>\n",
              "      <th>4</th>\n",
              "      <td>1119113</td>\n",
              "      <td>299543</td>\n",
              "      <td>0</td>\n",
              "      <td>1</td>\n",
              "      <td>JBL0104</td>\n",
              "      <td>23.74</td>\n",
              "      <td>2017-01-01 01:06:38</td>\n",
              "    </tr>\n",
              "    <tr>\n",
              "      <th>...</th>\n",
              "      <td>...</td>\n",
              "      <td>...</td>\n",
              "      <td>...</td>\n",
              "      <td>...</td>\n",
              "      <td>...</td>\n",
              "      <td>...</td>\n",
              "      <td>...</td>\n",
              "    </tr>\n",
              "    <tr>\n",
              "      <th>293978</th>\n",
              "      <td>1650199</td>\n",
              "      <td>527398</td>\n",
              "      <td>0</td>\n",
              "      <td>1</td>\n",
              "      <td>JBL0122</td>\n",
              "      <td>42.99</td>\n",
              "      <td>2018-03-14 13:57:25</td>\n",
              "    </tr>\n",
              "    <tr>\n",
              "      <th>293979</th>\n",
              "      <td>1650200</td>\n",
              "      <td>527399</td>\n",
              "      <td>0</td>\n",
              "      <td>1</td>\n",
              "      <td>PAC0653</td>\n",
              "      <td>141.58</td>\n",
              "      <td>2018-03-14 13:57:34</td>\n",
              "    </tr>\n",
              "    <tr>\n",
              "      <th>293980</th>\n",
              "      <td>1650201</td>\n",
              "      <td>527400</td>\n",
              "      <td>0</td>\n",
              "      <td>2</td>\n",
              "      <td>APP0698</td>\n",
              "      <td>9.99</td>\n",
              "      <td>2018-03-14 13:57:41</td>\n",
              "    </tr>\n",
              "    <tr>\n",
              "      <th>293981</th>\n",
              "      <td>1650202</td>\n",
              "      <td>527388</td>\n",
              "      <td>0</td>\n",
              "      <td>1</td>\n",
              "      <td>BEZ0204</td>\n",
              "      <td>19.99</td>\n",
              "      <td>2018-03-14 13:58:01</td>\n",
              "    </tr>\n",
              "    <tr>\n",
              "      <th>293982</th>\n",
              "      <td>1650203</td>\n",
              "      <td>527401</td>\n",
              "      <td>0</td>\n",
              "      <td>1</td>\n",
              "      <td>APP0927</td>\n",
              "      <td>13.99</td>\n",
              "      <td>2018-03-14 13:58:36</td>\n",
              "    </tr>\n",
              "  </tbody>\n",
              "</table>\n",
              "<p>293983 rows × 7 columns</p>\n",
              "</div>\n",
              "      <button class=\"colab-df-convert\" onclick=\"convertToInteractive('df-85c0e6aa-5821-46f1-b1f2-517f3c80092b')\"\n",
              "              title=\"Convert this dataframe to an interactive table.\"\n",
              "              style=\"display:none;\">\n",
              "        \n",
              "  <svg xmlns=\"http://www.w3.org/2000/svg\" height=\"24px\"viewBox=\"0 0 24 24\"\n",
              "       width=\"24px\">\n",
              "    <path d=\"M0 0h24v24H0V0z\" fill=\"none\"/>\n",
              "    <path d=\"M18.56 5.44l.94 2.06.94-2.06 2.06-.94-2.06-.94-.94-2.06-.94 2.06-2.06.94zm-11 1L8.5 8.5l.94-2.06 2.06-.94-2.06-.94L8.5 2.5l-.94 2.06-2.06.94zm10 10l.94 2.06.94-2.06 2.06-.94-2.06-.94-.94-2.06-.94 2.06-2.06.94z\"/><path d=\"M17.41 7.96l-1.37-1.37c-.4-.4-.92-.59-1.43-.59-.52 0-1.04.2-1.43.59L10.3 9.45l-7.72 7.72c-.78.78-.78 2.05 0 2.83L4 21.41c.39.39.9.59 1.41.59.51 0 1.02-.2 1.41-.59l7.78-7.78 2.81-2.81c.8-.78.8-2.07 0-2.86zM5.41 20L4 18.59l7.72-7.72 1.47 1.35L5.41 20z\"/>\n",
              "  </svg>\n",
              "      </button>\n",
              "      \n",
              "  <style>\n",
              "    .colab-df-container {\n",
              "      display:flex;\n",
              "      flex-wrap:wrap;\n",
              "      gap: 12px;\n",
              "    }\n",
              "\n",
              "    .colab-df-convert {\n",
              "      background-color: #E8F0FE;\n",
              "      border: none;\n",
              "      border-radius: 50%;\n",
              "      cursor: pointer;\n",
              "      display: none;\n",
              "      fill: #1967D2;\n",
              "      height: 32px;\n",
              "      padding: 0 0 0 0;\n",
              "      width: 32px;\n",
              "    }\n",
              "\n",
              "    .colab-df-convert:hover {\n",
              "      background-color: #E2EBFA;\n",
              "      box-shadow: 0px 1px 2px rgba(60, 64, 67, 0.3), 0px 1px 3px 1px rgba(60, 64, 67, 0.15);\n",
              "      fill: #174EA6;\n",
              "    }\n",
              "\n",
              "    [theme=dark] .colab-df-convert {\n",
              "      background-color: #3B4455;\n",
              "      fill: #D2E3FC;\n",
              "    }\n",
              "\n",
              "    [theme=dark] .colab-df-convert:hover {\n",
              "      background-color: #434B5C;\n",
              "      box-shadow: 0px 1px 3px 1px rgba(0, 0, 0, 0.15);\n",
              "      filter: drop-shadow(0px 1px 2px rgba(0, 0, 0, 0.3));\n",
              "      fill: #FFFFFF;\n",
              "    }\n",
              "  </style>\n",
              "\n",
              "      <script>\n",
              "        const buttonEl =\n",
              "          document.querySelector('#df-85c0e6aa-5821-46f1-b1f2-517f3c80092b button.colab-df-convert');\n",
              "        buttonEl.style.display =\n",
              "          google.colab.kernel.accessAllowed ? 'block' : 'none';\n",
              "\n",
              "        async function convertToInteractive(key) {\n",
              "          const element = document.querySelector('#df-85c0e6aa-5821-46f1-b1f2-517f3c80092b');\n",
              "          const dataTable =\n",
              "            await google.colab.kernel.invokeFunction('convertToInteractive',\n",
              "                                                     [key], {});\n",
              "          if (!dataTable) return;\n",
              "\n",
              "          const docLinkHtml = 'Like what you see? Visit the ' +\n",
              "            '<a target=\"_blank\" href=https://colab.research.google.com/notebooks/data_table.ipynb>data table notebook</a>'\n",
              "            + ' to learn more about interactive tables.';\n",
              "          element.innerHTML = '';\n",
              "          dataTable['output_type'] = 'display_data';\n",
              "          await google.colab.output.renderOutput(dataTable, element);\n",
              "          const docLink = document.createElement('div');\n",
              "          docLink.innerHTML = docLinkHtml;\n",
              "          element.appendChild(docLink);\n",
              "        }\n",
              "      </script>\n",
              "    </div>\n",
              "  </div>\n",
              "  "
            ]
          },
          "metadata": {},
          "execution_count": 11
        }
      ]
    },
    {
      "cell_type": "markdown",
      "source": [
        "### Duplicated Values"
      ],
      "metadata": {
        "id": "nCRaWhPX4Yv6"
      }
    },
    {
      "cell_type": "code",
      "source": [
        "orderlines.duplicated().sum()"
      ],
      "metadata": {
        "id": "RL6_iIzZ0ygA",
        "colab": {
          "base_uri": "https://localhost:8080/"
        },
        "outputId": "02fdb009-cc50-4681-ec43-5411e35a8595"
      },
      "execution_count": null,
      "outputs": [
        {
          "output_type": "execute_result",
          "data": {
            "text/plain": [
              "0"
            ]
          },
          "metadata": {},
          "execution_count": 12
        }
      ]
    },
    {
      "cell_type": "markdown",
      "source": [
        "### Checking for missing values"
      ],
      "metadata": {
        "id": "ohFI6U_BSbRR"
      }
    },
    {
      "cell_type": "code",
      "source": [
        "orderlines.isnull().sum() # To find the total amount of missing values on products."
      ],
      "metadata": {
        "id": "nZgT5DwWgE2G",
        "colab": {
          "base_uri": "https://localhost:8080/"
        },
        "outputId": "db003a34-884f-4baf-e52f-164f435b04c8"
      },
      "execution_count": null,
      "outputs": [
        {
          "output_type": "execute_result",
          "data": {
            "text/plain": [
              "id                  0\n",
              "id_order            0\n",
              "product_id          0\n",
              "product_quantity    0\n",
              "sku                 0\n",
              "unit_price          0\n",
              "date                0\n",
              "dtype: int64"
            ]
          },
          "metadata": {},
          "execution_count": 13
        }
      ]
    },
    {
      "cell_type": "code",
      "source": [
        "orderlines.isnull().sum() / len(orderlines) * 100 # To show the percentage rrepresented by this missing values"
      ],
      "metadata": {
        "id": "I_2UhWo6gE2P",
        "colab": {
          "base_uri": "https://localhost:8080/"
        },
        "outputId": "d3ee890c-989c-4977-9a4e-87d6e3851dd7"
      },
      "execution_count": null,
      "outputs": [
        {
          "output_type": "execute_result",
          "data": {
            "text/plain": [
              "id                  0.0\n",
              "id_order            0.0\n",
              "product_id          0.0\n",
              "product_quantity    0.0\n",
              "sku                 0.0\n",
              "unit_price          0.0\n",
              "date                0.0\n",
              "dtype: float64"
            ]
          },
          "metadata": {},
          "execution_count": 14
        }
      ]
    },
    {
      "cell_type": "markdown",
      "source": [
        "###Changing Data Types"
      ],
      "metadata": {
        "id": "qKPHMBL9TR-w"
      }
    },
    {
      "cell_type": "markdown",
      "source": [
        " date into dateType"
      ],
      "metadata": {
        "id": "XvmAGnpLTukC"
      }
    },
    {
      "cell_type": "code",
      "source": [
        "orderlines.unit_price.str.contains(\"\\d+\\.\\d+\\.\\d+\").value_counts()"
      ],
      "metadata": {
        "id": "3zfOMEmnTjOj",
        "colab": {
          "base_uri": "https://localhost:8080/"
        },
        "outputId": "aa36c1b2-51fb-4110-a5e5-95d325a78bfd"
      },
      "execution_count": null,
      "outputs": [
        {
          "output_type": "execute_result",
          "data": {
            "text/plain": [
              "False    257814\n",
              "True      36169\n",
              "Name: unit_price, dtype: int64"
            ]
          },
          "metadata": {},
          "execution_count": 15
        }
      ]
    },
    {
      "cell_type": "code",
      "source": [
        "orderlines[\"date\"] = pd.to_datetime(orderlines[\"date\"])"
      ],
      "metadata": {
        "id": "ozuRKlUKSwj0"
      },
      "execution_count": null,
      "outputs": []
    },
    {
      "cell_type": "markdown",
      "source": [
        "unit_price to numeric"
      ],
      "metadata": {
        "id": "yLyBYH7RT7yL"
      }
    },
    {
      "cell_type": "code",
      "source": [
        "orderlines[\"unit_price\"] = pd.to_numeric(orderlines[\"unit_price\"])\n",
        "# ValueError: Unable to parse string \"1.137.99\" at position 6"
      ],
      "metadata": {
        "id": "9-mCsrbBTW8t",
        "colab": {
          "base_uri": "https://localhost:8080/",
          "height": 294
        },
        "outputId": "d018dd47-20f5-4a78-b4a0-2d5d1aa46e20"
      },
      "execution_count": null,
      "outputs": [
        {
          "output_type": "error",
          "ename": "ValueError",
          "evalue": "ignored",
          "traceback": [
            "\u001b[0;31m---------------------------------------------------------------------------\u001b[0m",
            "\u001b[0;31mValueError\u001b[0m                                Traceback (most recent call last)",
            "\u001b[0;32m/usr/local/lib/python3.10/dist-packages/pandas/_libs/lib.pyx\u001b[0m in \u001b[0;36mpandas._libs.lib.maybe_convert_numeric\u001b[0;34m()\u001b[0m\n",
            "\u001b[0;31mValueError\u001b[0m: Unable to parse string \"1.137.99\"",
            "\nDuring handling of the above exception, another exception occurred:\n",
            "\u001b[0;31mValueError\u001b[0m                                Traceback (most recent call last)",
            "\u001b[0;32m<ipython-input-40-7013e5ef818d>\u001b[0m in \u001b[0;36m<cell line: 1>\u001b[0;34m()\u001b[0m\n\u001b[0;32m----> 1\u001b[0;31m \u001b[0morderlines\u001b[0m\u001b[0;34m[\u001b[0m\u001b[0;34m\"unit_price\"\u001b[0m\u001b[0;34m]\u001b[0m \u001b[0;34m=\u001b[0m \u001b[0mpd\u001b[0m\u001b[0;34m.\u001b[0m\u001b[0mto_numeric\u001b[0m\u001b[0;34m(\u001b[0m\u001b[0morderlines\u001b[0m\u001b[0;34m[\u001b[0m\u001b[0;34m\"unit_price\"\u001b[0m\u001b[0;34m]\u001b[0m\u001b[0;34m)\u001b[0m\u001b[0;34m\u001b[0m\u001b[0;34m\u001b[0m\u001b[0m\n\u001b[0m\u001b[1;32m      2\u001b[0m \u001b[0;31m# ValueError: Unable to parse string \"1.137.99\" at position 6\u001b[0m\u001b[0;34m\u001b[0m\u001b[0;34m\u001b[0m\u001b[0m\n",
            "\u001b[0;32m/usr/local/lib/python3.10/dist-packages/pandas/core/tools/numeric.py\u001b[0m in \u001b[0;36mto_numeric\u001b[0;34m(arg, errors, downcast)\u001b[0m\n\u001b[1;32m    183\u001b[0m         \u001b[0mcoerce_numeric\u001b[0m \u001b[0;34m=\u001b[0m \u001b[0merrors\u001b[0m \u001b[0;32mnot\u001b[0m \u001b[0;32min\u001b[0m \u001b[0;34m(\u001b[0m\u001b[0;34m\"ignore\"\u001b[0m\u001b[0;34m,\u001b[0m \u001b[0;34m\"raise\"\u001b[0m\u001b[0;34m)\u001b[0m\u001b[0;34m\u001b[0m\u001b[0;34m\u001b[0m\u001b[0m\n\u001b[1;32m    184\u001b[0m         \u001b[0;32mtry\u001b[0m\u001b[0;34m:\u001b[0m\u001b[0;34m\u001b[0m\u001b[0;34m\u001b[0m\u001b[0m\n\u001b[0;32m--> 185\u001b[0;31m             values, _ = lib.maybe_convert_numeric(\n\u001b[0m\u001b[1;32m    186\u001b[0m                 \u001b[0mvalues\u001b[0m\u001b[0;34m,\u001b[0m \u001b[0mset\u001b[0m\u001b[0;34m(\u001b[0m\u001b[0;34m)\u001b[0m\u001b[0;34m,\u001b[0m \u001b[0mcoerce_numeric\u001b[0m\u001b[0;34m=\u001b[0m\u001b[0mcoerce_numeric\u001b[0m\u001b[0;34m\u001b[0m\u001b[0;34m\u001b[0m\u001b[0m\n\u001b[1;32m    187\u001b[0m             )\n",
            "\u001b[0;32m/usr/local/lib/python3.10/dist-packages/pandas/_libs/lib.pyx\u001b[0m in \u001b[0;36mpandas._libs.lib.maybe_convert_numeric\u001b[0;34m()\u001b[0m\n",
            "\u001b[0;31mValueError\u001b[0m: Unable to parse string \"1.137.99\" at position 6"
          ]
        }
      ]
    },
    {
      "cell_type": "markdown",
      "source": [
        "##products\n",
        "\n",
        "## **In this table we Changed the data type of price and promo_price and romove corrupted information**"
      ],
      "metadata": {
        "id": "_2jdtAumzMk7"
      }
    },
    {
      "cell_type": "code",
      "source": [
        "products"
      ],
      "metadata": {
        "id": "3Olc1xOXr-IM",
        "outputId": "befafd9b-ae56-48ff-a140-95e95e83de88",
        "colab": {
          "base_uri": "https://localhost:8080/",
          "height": 424
        }
      },
      "execution_count": null,
      "outputs": [
        {
          "output_type": "execute_result",
          "data": {
            "text/plain": [
              "           sku                                           name  \\\n",
              "0      RAI0007              Silver Rain Design mStand Support   \n",
              "1      APP0023              Apple Mac Keyboard Keypad Spanish   \n",
              "2      APP0025               Mighty Mouse Apple Mouse for Mac   \n",
              "3      APP0072  Apple Dock to USB Cable iPhone and iPod white   \n",
              "4      KIN0007    Mac Memory Kingston 2GB 667MHz DDR2 SO-DIMM   \n",
              "...        ...                                            ...   \n",
              "19321  BEL0376        Belkin Travel Support Apple Watch Black   \n",
              "19322  THU0060   Enroute Thule 14L Backpack MacBook 13 \"Black   \n",
              "19323  THU0061    Enroute Thule 14L Backpack MacBook 13 \"Blue   \n",
              "19324  THU0062     Enroute Thule 14L Backpack MacBook 13 \"Red   \n",
              "19325  THU0063   Enroute Thule 14L Backpack MacBook 13 \"Green   \n",
              "\n",
              "                                                    desc  price promo_price  \\\n",
              "0           Aluminum support compatible with all MacBook  59.99     499.899   \n",
              "1              USB ultrathin keyboard Apple Mac Spanish.     59     589.996   \n",
              "2                                 mouse Apple USB cable.     59     569.898   \n",
              "3                  IPhone dock and USB Cable Apple iPod.     25     229.997   \n",
              "4      2GB RAM Mac mini and iMac (2006/07) MacBook Pr...  34.99       31.99   \n",
              "...                                                  ...    ...         ...   \n",
              "19321  compact and portable stand vertically or horiz...  29.99     269.903   \n",
              "19322  Backpack with capacity of 14 liter compartment...  69.95     649.903   \n",
              "19323  Backpack with capacity of 14 liter compartment...  69.95     649.903   \n",
              "19324  Backpack with capacity of 14 liter compartment...  69.95     649.903   \n",
              "19325  Backpack with capacity of 14 liter compartment...  69.95     649.903   \n",
              "\n",
              "       in_stock      type  \n",
              "0             1      8696  \n",
              "1             0  13855401  \n",
              "2             0      1387  \n",
              "3             0      1230  \n",
              "4             1      1364  \n",
              "...         ...       ...  \n",
              "19321         1     12282  \n",
              "19322         1      1392  \n",
              "19323         1      1392  \n",
              "19324         0      1392  \n",
              "19325         1      1392  \n",
              "\n",
              "[19326 rows x 7 columns]"
            ],
            "text/html": [
              "\n",
              "  <div id=\"df-b4b5febe-011b-4cbd-9bba-d5b11c656f23\">\n",
              "    <div class=\"colab-df-container\">\n",
              "      <div>\n",
              "<style scoped>\n",
              "    .dataframe tbody tr th:only-of-type {\n",
              "        vertical-align: middle;\n",
              "    }\n",
              "\n",
              "    .dataframe tbody tr th {\n",
              "        vertical-align: top;\n",
              "    }\n",
              "\n",
              "    .dataframe thead th {\n",
              "        text-align: right;\n",
              "    }\n",
              "</style>\n",
              "<table border=\"1\" class=\"dataframe\">\n",
              "  <thead>\n",
              "    <tr style=\"text-align: right;\">\n",
              "      <th></th>\n",
              "      <th>sku</th>\n",
              "      <th>name</th>\n",
              "      <th>desc</th>\n",
              "      <th>price</th>\n",
              "      <th>promo_price</th>\n",
              "      <th>in_stock</th>\n",
              "      <th>type</th>\n",
              "    </tr>\n",
              "  </thead>\n",
              "  <tbody>\n",
              "    <tr>\n",
              "      <th>0</th>\n",
              "      <td>RAI0007</td>\n",
              "      <td>Silver Rain Design mStand Support</td>\n",
              "      <td>Aluminum support compatible with all MacBook</td>\n",
              "      <td>59.99</td>\n",
              "      <td>499.899</td>\n",
              "      <td>1</td>\n",
              "      <td>8696</td>\n",
              "    </tr>\n",
              "    <tr>\n",
              "      <th>1</th>\n",
              "      <td>APP0023</td>\n",
              "      <td>Apple Mac Keyboard Keypad Spanish</td>\n",
              "      <td>USB ultrathin keyboard Apple Mac Spanish.</td>\n",
              "      <td>59</td>\n",
              "      <td>589.996</td>\n",
              "      <td>0</td>\n",
              "      <td>13855401</td>\n",
              "    </tr>\n",
              "    <tr>\n",
              "      <th>2</th>\n",
              "      <td>APP0025</td>\n",
              "      <td>Mighty Mouse Apple Mouse for Mac</td>\n",
              "      <td>mouse Apple USB cable.</td>\n",
              "      <td>59</td>\n",
              "      <td>569.898</td>\n",
              "      <td>0</td>\n",
              "      <td>1387</td>\n",
              "    </tr>\n",
              "    <tr>\n",
              "      <th>3</th>\n",
              "      <td>APP0072</td>\n",
              "      <td>Apple Dock to USB Cable iPhone and iPod white</td>\n",
              "      <td>IPhone dock and USB Cable Apple iPod.</td>\n",
              "      <td>25</td>\n",
              "      <td>229.997</td>\n",
              "      <td>0</td>\n",
              "      <td>1230</td>\n",
              "    </tr>\n",
              "    <tr>\n",
              "      <th>4</th>\n",
              "      <td>KIN0007</td>\n",
              "      <td>Mac Memory Kingston 2GB 667MHz DDR2 SO-DIMM</td>\n",
              "      <td>2GB RAM Mac mini and iMac (2006/07) MacBook Pr...</td>\n",
              "      <td>34.99</td>\n",
              "      <td>31.99</td>\n",
              "      <td>1</td>\n",
              "      <td>1364</td>\n",
              "    </tr>\n",
              "    <tr>\n",
              "      <th>...</th>\n",
              "      <td>...</td>\n",
              "      <td>...</td>\n",
              "      <td>...</td>\n",
              "      <td>...</td>\n",
              "      <td>...</td>\n",
              "      <td>...</td>\n",
              "      <td>...</td>\n",
              "    </tr>\n",
              "    <tr>\n",
              "      <th>19321</th>\n",
              "      <td>BEL0376</td>\n",
              "      <td>Belkin Travel Support Apple Watch Black</td>\n",
              "      <td>compact and portable stand vertically or horiz...</td>\n",
              "      <td>29.99</td>\n",
              "      <td>269.903</td>\n",
              "      <td>1</td>\n",
              "      <td>12282</td>\n",
              "    </tr>\n",
              "    <tr>\n",
              "      <th>19322</th>\n",
              "      <td>THU0060</td>\n",
              "      <td>Enroute Thule 14L Backpack MacBook 13 \"Black</td>\n",
              "      <td>Backpack with capacity of 14 liter compartment...</td>\n",
              "      <td>69.95</td>\n",
              "      <td>649.903</td>\n",
              "      <td>1</td>\n",
              "      <td>1392</td>\n",
              "    </tr>\n",
              "    <tr>\n",
              "      <th>19323</th>\n",
              "      <td>THU0061</td>\n",
              "      <td>Enroute Thule 14L Backpack MacBook 13 \"Blue</td>\n",
              "      <td>Backpack with capacity of 14 liter compartment...</td>\n",
              "      <td>69.95</td>\n",
              "      <td>649.903</td>\n",
              "      <td>1</td>\n",
              "      <td>1392</td>\n",
              "    </tr>\n",
              "    <tr>\n",
              "      <th>19324</th>\n",
              "      <td>THU0062</td>\n",
              "      <td>Enroute Thule 14L Backpack MacBook 13 \"Red</td>\n",
              "      <td>Backpack with capacity of 14 liter compartment...</td>\n",
              "      <td>69.95</td>\n",
              "      <td>649.903</td>\n",
              "      <td>0</td>\n",
              "      <td>1392</td>\n",
              "    </tr>\n",
              "    <tr>\n",
              "      <th>19325</th>\n",
              "      <td>THU0063</td>\n",
              "      <td>Enroute Thule 14L Backpack MacBook 13 \"Green</td>\n",
              "      <td>Backpack with capacity of 14 liter compartment...</td>\n",
              "      <td>69.95</td>\n",
              "      <td>649.903</td>\n",
              "      <td>1</td>\n",
              "      <td>1392</td>\n",
              "    </tr>\n",
              "  </tbody>\n",
              "</table>\n",
              "<p>19326 rows × 7 columns</p>\n",
              "</div>\n",
              "      <button class=\"colab-df-convert\" onclick=\"convertToInteractive('df-b4b5febe-011b-4cbd-9bba-d5b11c656f23')\"\n",
              "              title=\"Convert this dataframe to an interactive table.\"\n",
              "              style=\"display:none;\">\n",
              "        \n",
              "  <svg xmlns=\"http://www.w3.org/2000/svg\" height=\"24px\"viewBox=\"0 0 24 24\"\n",
              "       width=\"24px\">\n",
              "    <path d=\"M0 0h24v24H0V0z\" fill=\"none\"/>\n",
              "    <path d=\"M18.56 5.44l.94 2.06.94-2.06 2.06-.94-2.06-.94-.94-2.06-.94 2.06-2.06.94zm-11 1L8.5 8.5l.94-2.06 2.06-.94-2.06-.94L8.5 2.5l-.94 2.06-2.06.94zm10 10l.94 2.06.94-2.06 2.06-.94-2.06-.94-.94-2.06-.94 2.06-2.06.94z\"/><path d=\"M17.41 7.96l-1.37-1.37c-.4-.4-.92-.59-1.43-.59-.52 0-1.04.2-1.43.59L10.3 9.45l-7.72 7.72c-.78.78-.78 2.05 0 2.83L4 21.41c.39.39.9.59 1.41.59.51 0 1.02-.2 1.41-.59l7.78-7.78 2.81-2.81c.8-.78.8-2.07 0-2.86zM5.41 20L4 18.59l7.72-7.72 1.47 1.35L5.41 20z\"/>\n",
              "  </svg>\n",
              "      </button>\n",
              "      \n",
              "  <style>\n",
              "    .colab-df-container {\n",
              "      display:flex;\n",
              "      flex-wrap:wrap;\n",
              "      gap: 12px;\n",
              "    }\n",
              "\n",
              "    .colab-df-convert {\n",
              "      background-color: #E8F0FE;\n",
              "      border: none;\n",
              "      border-radius: 50%;\n",
              "      cursor: pointer;\n",
              "      display: none;\n",
              "      fill: #1967D2;\n",
              "      height: 32px;\n",
              "      padding: 0 0 0 0;\n",
              "      width: 32px;\n",
              "    }\n",
              "\n",
              "    .colab-df-convert:hover {\n",
              "      background-color: #E2EBFA;\n",
              "      box-shadow: 0px 1px 2px rgba(60, 64, 67, 0.3), 0px 1px 3px 1px rgba(60, 64, 67, 0.15);\n",
              "      fill: #174EA6;\n",
              "    }\n",
              "\n",
              "    [theme=dark] .colab-df-convert {\n",
              "      background-color: #3B4455;\n",
              "      fill: #D2E3FC;\n",
              "    }\n",
              "\n",
              "    [theme=dark] .colab-df-convert:hover {\n",
              "      background-color: #434B5C;\n",
              "      box-shadow: 0px 1px 3px 1px rgba(0, 0, 0, 0.15);\n",
              "      filter: drop-shadow(0px 1px 2px rgba(0, 0, 0, 0.3));\n",
              "      fill: #FFFFFF;\n",
              "    }\n",
              "  </style>\n",
              "\n",
              "      <script>\n",
              "        const buttonEl =\n",
              "          document.querySelector('#df-b4b5febe-011b-4cbd-9bba-d5b11c656f23 button.colab-df-convert');\n",
              "        buttonEl.style.display =\n",
              "          google.colab.kernel.accessAllowed ? 'block' : 'none';\n",
              "\n",
              "        async function convertToInteractive(key) {\n",
              "          const element = document.querySelector('#df-b4b5febe-011b-4cbd-9bba-d5b11c656f23');\n",
              "          const dataTable =\n",
              "            await google.colab.kernel.invokeFunction('convertToInteractive',\n",
              "                                                     [key], {});\n",
              "          if (!dataTable) return;\n",
              "\n",
              "          const docLinkHtml = 'Like what you see? Visit the ' +\n",
              "            '<a target=\"_blank\" href=https://colab.research.google.com/notebooks/data_table.ipynb>data table notebook</a>'\n",
              "            + ' to learn more about interactive tables.';\n",
              "          element.innerHTML = '';\n",
              "          dataTable['output_type'] = 'display_data';\n",
              "          await google.colab.output.renderOutput(dataTable, element);\n",
              "          const docLink = document.createElement('div');\n",
              "          docLink.innerHTML = docLinkHtml;\n",
              "          element.appendChild(docLink);\n",
              "        }\n",
              "      </script>\n",
              "    </div>\n",
              "  </div>\n",
              "  "
            ]
          },
          "metadata": {},
          "execution_count": 19
        }
      ]
    },
    {
      "cell_type": "markdown",
      "source": [
        "####products/price"
      ],
      "metadata": {
        "id": "-IO14YSa0RS_"
      }
    },
    {
      "cell_type": "markdown",
      "source": [
        "###Look for Duplicates"
      ],
      "metadata": {
        "id": "b9BKp0-M0tEv"
      }
    },
    {
      "cell_type": "code",
      "source": [
        "# Finding the duplicates values in the products DataFrame with the `.duplicated´ method\n",
        "products.duplicated().sum()"
      ],
      "metadata": {
        "colab": {
          "base_uri": "https://localhost:8080/"
        },
        "id": "rDt1lBio0PCI",
        "outputId": "c83ef767-5d0e-422e-f8fe-ec4c0e9ec562"
      },
      "execution_count": null,
      "outputs": [
        {
          "output_type": "execute_result",
          "data": {
            "text/plain": [
              "8746"
            ]
          },
          "metadata": {},
          "execution_count": 20
        }
      ]
    },
    {
      "cell_type": "code",
      "source": [
        "products.drop_duplicates(inplace=True)"
      ],
      "metadata": {
        "id": "IP7svYiY1jGW"
      },
      "execution_count": null,
      "outputs": []
    },
    {
      "cell_type": "code",
      "source": [
        "products.duplicated().sum()"
      ],
      "metadata": {
        "colab": {
          "base_uri": "https://localhost:8080/"
        },
        "id": "6pikIBc71lz0",
        "outputId": "a5ba7118-5394-4151-ee6e-f415740a51f3"
      },
      "execution_count": null,
      "outputs": [
        {
          "output_type": "execute_result",
          "data": {
            "text/plain": [
              "0"
            ]
          },
          "metadata": {},
          "execution_count": 22
        }
      ]
    },
    {
      "cell_type": "markdown",
      "source": [
        "###Looking for missing values"
      ],
      "metadata": {
        "id": "g0VukKaP1pDN"
      }
    },
    {
      "cell_type": "code",
      "source": [
        "products.isnull().sum() # To find the total amount of missing values on products."
      ],
      "metadata": {
        "colab": {
          "base_uri": "https://localhost:8080/"
        },
        "id": "jcqqpoJt16h6",
        "outputId": "cbd75cbf-94bb-4444-cd62-b5eea1127cdb"
      },
      "execution_count": null,
      "outputs": [
        {
          "output_type": "execute_result",
          "data": {
            "text/plain": [
              "sku             0\n",
              "name            0\n",
              "desc            7\n",
              "price          46\n",
              "promo_price     0\n",
              "in_stock        0\n",
              "type           50\n",
              "dtype: int64"
            ]
          },
          "metadata": {},
          "execution_count": 23
        }
      ]
    },
    {
      "cell_type": "code",
      "source": [
        "products.isnull().sum() / len(products) * 100 # To show the percentage rrepresented by this missing values"
      ],
      "metadata": {
        "colab": {
          "base_uri": "https://localhost:8080/"
        },
        "id": "wq7Jr_n01_9V",
        "outputId": "51f13a48-1df7-4cc9-c3cf-db0882054a1c"
      },
      "execution_count": null,
      "outputs": [
        {
          "output_type": "execute_result",
          "data": {
            "text/plain": [
              "sku            0.000000\n",
              "name           0.000000\n",
              "desc           0.066163\n",
              "price          0.434783\n",
              "promo_price    0.000000\n",
              "in_stock       0.000000\n",
              "type           0.472590\n",
              "dtype: float64"
            ]
          },
          "metadata": {},
          "execution_count": 24
        }
      ]
    },
    {
      "cell_type": "markdown",
      "source": [
        "###Checking & Changing Data Types"
      ],
      "metadata": {
        "id": "z-hPsQid2EQg"
      }
    },
    {
      "cell_type": "markdown",
      "source": [
        "price"
      ],
      "metadata": {
        "id": "8FWuU6vDaNJt"
      }
    },
    {
      "cell_type": "code",
      "source": [
        "products[\"price\"] = pd.to_numeric(products[\"price\"])"
      ],
      "metadata": {
        "id": "vohg1xGN2JRg"
      },
      "execution_count": null,
      "outputs": []
    },
    {
      "cell_type": "markdown",
      "source": [
        "As we tried to change the datatype of prices we identified many numers with two decimal spaces."
      ],
      "metadata": {
        "id": "1EfX403vaj2h"
      }
    },
    {
      "cell_type": "code",
      "source": [
        "products['price'].astype(str).str.contains(r\"\\d+\\.\\d+\\.\\d+\").value_counts()"
      ],
      "metadata": {
        "colab": {
          "base_uri": "https://localhost:8080/"
        },
        "id": "JvOJ2E7w2kt0",
        "outputId": "3142e1a2-a852-4230-df5c-1ecc97b4eb94"
      },
      "execution_count": null,
      "outputs": [
        {
          "output_type": "execute_result",
          "data": {
            "text/plain": [
              "False    10580\n",
              "Name: price, dtype: int64"
            ]
          },
          "metadata": {},
          "execution_count": 29
        }
      ]
    },
    {
      "cell_type": "code",
      "source": [
        "products['price'].astype(str).str.contains(r\"\\d+\\.\\d+\\.\\d+\").value_counts(normalize=True) * 100"
      ],
      "metadata": {
        "colab": {
          "base_uri": "https://localhost:8080/"
        },
        "outputId": "b86918dc-b20e-4d2d-f7a3-4b81f1011a74",
        "id": "rN6LSXROa4N8"
      },
      "execution_count": null,
      "outputs": [
        {
          "output_type": "execute_result",
          "data": {
            "text/plain": [
              "False    96.436673\n",
              "True      3.563327\n",
              "Name: price, dtype: float64"
            ]
          },
          "metadata": {},
          "execution_count": 27
        }
      ]
    },
    {
      "cell_type": "code",
      "source": [
        "#Here we decided to coerce the errors given on the convertion of prices into NaN values for the sake of the project\n",
        "products['price'] = pd.to_numeric (products['price'], errors='coerce')"
      ],
      "metadata": {
        "id": "v_DSm6001lrX"
      },
      "execution_count": null,
      "outputs": []
    },
    {
      "cell_type": "markdown",
      "source": [
        "promo_price"
      ],
      "metadata": {
        "id": "MU6o0FdSa_Qf"
      }
    },
    {
      "cell_type": "code",
      "source": [
        "#Here we change promo_prices into \"Float\" Datatype\n",
        "#products[\"promo_price\"] = products[\"promo_price\"].astype(float)\n",
        "products[\"promo_price\"] = products[\"promo_price\"].astype(float)\n"
      ],
      "metadata": {
        "id": "3d16nh5dAdyT",
        "colab": {
          "base_uri": "https://localhost:8080/",
          "height": 346
        },
        "outputId": "218c5a35-20f8-4a70-d264-ae3941d83afe"
      },
      "execution_count": null,
      "outputs": [
        {
          "output_type": "error",
          "ename": "ValueError",
          "evalue": "ignored",
          "traceback": [
            "\u001b[0;31m---------------------------------------------------------------------------\u001b[0m",
            "\u001b[0;31mValueError\u001b[0m                                Traceback (most recent call last)",
            "\u001b[0;32m<ipython-input-44-0bbb94acb447>\u001b[0m in \u001b[0;36m<cell line: 3>\u001b[0;34m()\u001b[0m\n\u001b[1;32m      1\u001b[0m \u001b[0;31m#Here we change promo_prices into \"Float\" Datatype\u001b[0m\u001b[0;34m\u001b[0m\u001b[0;34m\u001b[0m\u001b[0m\n\u001b[1;32m      2\u001b[0m \u001b[0;31m#products[\"promo_price\"] = products[\"promo_price\"].astype(float)\u001b[0m\u001b[0;34m\u001b[0m\u001b[0;34m\u001b[0m\u001b[0m\n\u001b[0;32m----> 3\u001b[0;31m \u001b[0mproducts\u001b[0m\u001b[0;34m[\u001b[0m\u001b[0;34m\"promo_price\"\u001b[0m\u001b[0;34m]\u001b[0m \u001b[0;34m=\u001b[0m \u001b[0mproducts\u001b[0m\u001b[0;34m[\u001b[0m\u001b[0;34m\"promo_price\"\u001b[0m\u001b[0;34m]\u001b[0m\u001b[0;34m.\u001b[0m\u001b[0mastype\u001b[0m\u001b[0;34m(\u001b[0m\u001b[0mfloat\u001b[0m\u001b[0;34m)\u001b[0m\u001b[0;34m\u001b[0m\u001b[0;34m\u001b[0m\u001b[0m\n\u001b[0m",
            "\u001b[0;32m/usr/local/lib/python3.10/dist-packages/pandas/core/generic.py\u001b[0m in \u001b[0;36mastype\u001b[0;34m(self, dtype, copy, errors)\u001b[0m\n\u001b[1;32m   6238\u001b[0m         \u001b[0;32melse\u001b[0m\u001b[0;34m:\u001b[0m\u001b[0;34m\u001b[0m\u001b[0;34m\u001b[0m\u001b[0m\n\u001b[1;32m   6239\u001b[0m             \u001b[0;31m# else, only a single dtype is given\u001b[0m\u001b[0;34m\u001b[0m\u001b[0;34m\u001b[0m\u001b[0m\n\u001b[0;32m-> 6240\u001b[0;31m             \u001b[0mnew_data\u001b[0m \u001b[0;34m=\u001b[0m \u001b[0mself\u001b[0m\u001b[0;34m.\u001b[0m\u001b[0m_mgr\u001b[0m\u001b[0;34m.\u001b[0m\u001b[0mastype\u001b[0m\u001b[0;34m(\u001b[0m\u001b[0mdtype\u001b[0m\u001b[0;34m=\u001b[0m\u001b[0mdtype\u001b[0m\u001b[0;34m,\u001b[0m \u001b[0mcopy\u001b[0m\u001b[0;34m=\u001b[0m\u001b[0mcopy\u001b[0m\u001b[0;34m,\u001b[0m \u001b[0merrors\u001b[0m\u001b[0;34m=\u001b[0m\u001b[0merrors\u001b[0m\u001b[0;34m)\u001b[0m\u001b[0;34m\u001b[0m\u001b[0;34m\u001b[0m\u001b[0m\n\u001b[0m\u001b[1;32m   6241\u001b[0m             \u001b[0;32mreturn\u001b[0m \u001b[0mself\u001b[0m\u001b[0;34m.\u001b[0m\u001b[0m_constructor\u001b[0m\u001b[0;34m(\u001b[0m\u001b[0mnew_data\u001b[0m\u001b[0;34m)\u001b[0m\u001b[0;34m.\u001b[0m\u001b[0m__finalize__\u001b[0m\u001b[0;34m(\u001b[0m\u001b[0mself\u001b[0m\u001b[0;34m,\u001b[0m \u001b[0mmethod\u001b[0m\u001b[0;34m=\u001b[0m\u001b[0;34m\"astype\"\u001b[0m\u001b[0;34m)\u001b[0m\u001b[0;34m\u001b[0m\u001b[0;34m\u001b[0m\u001b[0m\n\u001b[1;32m   6242\u001b[0m \u001b[0;34m\u001b[0m\u001b[0m\n",
            "\u001b[0;32m/usr/local/lib/python3.10/dist-packages/pandas/core/internals/managers.py\u001b[0m in \u001b[0;36mastype\u001b[0;34m(self, dtype, copy, errors)\u001b[0m\n\u001b[1;32m    446\u001b[0m \u001b[0;34m\u001b[0m\u001b[0m\n\u001b[1;32m    447\u001b[0m     \u001b[0;32mdef\u001b[0m \u001b[0mastype\u001b[0m\u001b[0;34m(\u001b[0m\u001b[0mself\u001b[0m\u001b[0;34m:\u001b[0m \u001b[0mT\u001b[0m\u001b[0;34m,\u001b[0m \u001b[0mdtype\u001b[0m\u001b[0;34m,\u001b[0m \u001b[0mcopy\u001b[0m\u001b[0;34m:\u001b[0m \u001b[0mbool\u001b[0m \u001b[0;34m=\u001b[0m \u001b[0;32mFalse\u001b[0m\u001b[0;34m,\u001b[0m \u001b[0merrors\u001b[0m\u001b[0;34m:\u001b[0m \u001b[0mstr\u001b[0m \u001b[0;34m=\u001b[0m \u001b[0;34m\"raise\"\u001b[0m\u001b[0;34m)\u001b[0m \u001b[0;34m->\u001b[0m \u001b[0mT\u001b[0m\u001b[0;34m:\u001b[0m\u001b[0;34m\u001b[0m\u001b[0;34m\u001b[0m\u001b[0m\n\u001b[0;32m--> 448\u001b[0;31m         \u001b[0;32mreturn\u001b[0m \u001b[0mself\u001b[0m\u001b[0;34m.\u001b[0m\u001b[0mapply\u001b[0m\u001b[0;34m(\u001b[0m\u001b[0;34m\"astype\"\u001b[0m\u001b[0;34m,\u001b[0m \u001b[0mdtype\u001b[0m\u001b[0;34m=\u001b[0m\u001b[0mdtype\u001b[0m\u001b[0;34m,\u001b[0m \u001b[0mcopy\u001b[0m\u001b[0;34m=\u001b[0m\u001b[0mcopy\u001b[0m\u001b[0;34m,\u001b[0m \u001b[0merrors\u001b[0m\u001b[0;34m=\u001b[0m\u001b[0merrors\u001b[0m\u001b[0;34m)\u001b[0m\u001b[0;34m\u001b[0m\u001b[0;34m\u001b[0m\u001b[0m\n\u001b[0m\u001b[1;32m    449\u001b[0m \u001b[0;34m\u001b[0m\u001b[0m\n\u001b[1;32m    450\u001b[0m     def convert(\n",
            "\u001b[0;32m/usr/local/lib/python3.10/dist-packages/pandas/core/internals/managers.py\u001b[0m in \u001b[0;36mapply\u001b[0;34m(self, f, align_keys, ignore_failures, **kwargs)\u001b[0m\n\u001b[1;32m    350\u001b[0m                     \u001b[0mapplied\u001b[0m \u001b[0;34m=\u001b[0m \u001b[0mb\u001b[0m\u001b[0;34m.\u001b[0m\u001b[0mapply\u001b[0m\u001b[0;34m(\u001b[0m\u001b[0mf\u001b[0m\u001b[0;34m,\u001b[0m \u001b[0;34m**\u001b[0m\u001b[0mkwargs\u001b[0m\u001b[0;34m)\u001b[0m\u001b[0;34m\u001b[0m\u001b[0;34m\u001b[0m\u001b[0m\n\u001b[1;32m    351\u001b[0m                 \u001b[0;32melse\u001b[0m\u001b[0;34m:\u001b[0m\u001b[0;34m\u001b[0m\u001b[0;34m\u001b[0m\u001b[0m\n\u001b[0;32m--> 352\u001b[0;31m                     \u001b[0mapplied\u001b[0m \u001b[0;34m=\u001b[0m \u001b[0mgetattr\u001b[0m\u001b[0;34m(\u001b[0m\u001b[0mb\u001b[0m\u001b[0;34m,\u001b[0m \u001b[0mf\u001b[0m\u001b[0;34m)\u001b[0m\u001b[0;34m(\u001b[0m\u001b[0;34m**\u001b[0m\u001b[0mkwargs\u001b[0m\u001b[0;34m)\u001b[0m\u001b[0;34m\u001b[0m\u001b[0;34m\u001b[0m\u001b[0m\n\u001b[0m\u001b[1;32m    353\u001b[0m             \u001b[0;32mexcept\u001b[0m \u001b[0;34m(\u001b[0m\u001b[0mTypeError\u001b[0m\u001b[0;34m,\u001b[0m \u001b[0mNotImplementedError\u001b[0m\u001b[0;34m)\u001b[0m\u001b[0;34m:\u001b[0m\u001b[0;34m\u001b[0m\u001b[0;34m\u001b[0m\u001b[0m\n\u001b[1;32m    354\u001b[0m                 \u001b[0;32mif\u001b[0m \u001b[0;32mnot\u001b[0m \u001b[0mignore_failures\u001b[0m\u001b[0;34m:\u001b[0m\u001b[0;34m\u001b[0m\u001b[0;34m\u001b[0m\u001b[0m\n",
            "\u001b[0;32m/usr/local/lib/python3.10/dist-packages/pandas/core/internals/blocks.py\u001b[0m in \u001b[0;36mastype\u001b[0;34m(self, dtype, copy, errors)\u001b[0m\n\u001b[1;32m    524\u001b[0m         \u001b[0mvalues\u001b[0m \u001b[0;34m=\u001b[0m \u001b[0mself\u001b[0m\u001b[0;34m.\u001b[0m\u001b[0mvalues\u001b[0m\u001b[0;34m\u001b[0m\u001b[0;34m\u001b[0m\u001b[0m\n\u001b[1;32m    525\u001b[0m \u001b[0;34m\u001b[0m\u001b[0m\n\u001b[0;32m--> 526\u001b[0;31m         \u001b[0mnew_values\u001b[0m \u001b[0;34m=\u001b[0m \u001b[0mastype_array_safe\u001b[0m\u001b[0;34m(\u001b[0m\u001b[0mvalues\u001b[0m\u001b[0;34m,\u001b[0m \u001b[0mdtype\u001b[0m\u001b[0;34m,\u001b[0m \u001b[0mcopy\u001b[0m\u001b[0;34m=\u001b[0m\u001b[0mcopy\u001b[0m\u001b[0;34m,\u001b[0m \u001b[0merrors\u001b[0m\u001b[0;34m=\u001b[0m\u001b[0merrors\u001b[0m\u001b[0;34m)\u001b[0m\u001b[0;34m\u001b[0m\u001b[0;34m\u001b[0m\u001b[0m\n\u001b[0m\u001b[1;32m    527\u001b[0m \u001b[0;34m\u001b[0m\u001b[0m\n\u001b[1;32m    528\u001b[0m         \u001b[0mnew_values\u001b[0m \u001b[0;34m=\u001b[0m \u001b[0mmaybe_coerce_values\u001b[0m\u001b[0;34m(\u001b[0m\u001b[0mnew_values\u001b[0m\u001b[0;34m)\u001b[0m\u001b[0;34m\u001b[0m\u001b[0;34m\u001b[0m\u001b[0m\n",
            "\u001b[0;32m/usr/local/lib/python3.10/dist-packages/pandas/core/dtypes/astype.py\u001b[0m in \u001b[0;36mastype_array_safe\u001b[0;34m(values, dtype, copy, errors)\u001b[0m\n\u001b[1;32m    297\u001b[0m \u001b[0;34m\u001b[0m\u001b[0m\n\u001b[1;32m    298\u001b[0m     \u001b[0;32mtry\u001b[0m\u001b[0;34m:\u001b[0m\u001b[0;34m\u001b[0m\u001b[0;34m\u001b[0m\u001b[0m\n\u001b[0;32m--> 299\u001b[0;31m         \u001b[0mnew_values\u001b[0m \u001b[0;34m=\u001b[0m \u001b[0mastype_array\u001b[0m\u001b[0;34m(\u001b[0m\u001b[0mvalues\u001b[0m\u001b[0;34m,\u001b[0m \u001b[0mdtype\u001b[0m\u001b[0;34m,\u001b[0m \u001b[0mcopy\u001b[0m\u001b[0;34m=\u001b[0m\u001b[0mcopy\u001b[0m\u001b[0;34m)\u001b[0m\u001b[0;34m\u001b[0m\u001b[0;34m\u001b[0m\u001b[0m\n\u001b[0m\u001b[1;32m    300\u001b[0m     \u001b[0;32mexcept\u001b[0m \u001b[0;34m(\u001b[0m\u001b[0mValueError\u001b[0m\u001b[0;34m,\u001b[0m \u001b[0mTypeError\u001b[0m\u001b[0;34m)\u001b[0m\u001b[0;34m:\u001b[0m\u001b[0;34m\u001b[0m\u001b[0;34m\u001b[0m\u001b[0m\n\u001b[1;32m    301\u001b[0m         \u001b[0;31m# e.g. astype_nansafe can fail on object-dtype of strings\u001b[0m\u001b[0;34m\u001b[0m\u001b[0;34m\u001b[0m\u001b[0m\n",
            "\u001b[0;32m/usr/local/lib/python3.10/dist-packages/pandas/core/dtypes/astype.py\u001b[0m in \u001b[0;36mastype_array\u001b[0;34m(values, dtype, copy)\u001b[0m\n\u001b[1;32m    228\u001b[0m \u001b[0;34m\u001b[0m\u001b[0m\n\u001b[1;32m    229\u001b[0m     \u001b[0;32melse\u001b[0m\u001b[0;34m:\u001b[0m\u001b[0;34m\u001b[0m\u001b[0;34m\u001b[0m\u001b[0m\n\u001b[0;32m--> 230\u001b[0;31m         \u001b[0mvalues\u001b[0m \u001b[0;34m=\u001b[0m \u001b[0mastype_nansafe\u001b[0m\u001b[0;34m(\u001b[0m\u001b[0mvalues\u001b[0m\u001b[0;34m,\u001b[0m \u001b[0mdtype\u001b[0m\u001b[0;34m,\u001b[0m \u001b[0mcopy\u001b[0m\u001b[0;34m=\u001b[0m\u001b[0mcopy\u001b[0m\u001b[0;34m)\u001b[0m\u001b[0;34m\u001b[0m\u001b[0;34m\u001b[0m\u001b[0m\n\u001b[0m\u001b[1;32m    231\u001b[0m \u001b[0;34m\u001b[0m\u001b[0m\n\u001b[1;32m    232\u001b[0m     \u001b[0;31m# in pandas we don't store numpy str dtypes, so convert to object\u001b[0m\u001b[0;34m\u001b[0m\u001b[0;34m\u001b[0m\u001b[0m\n",
            "\u001b[0;32m/usr/local/lib/python3.10/dist-packages/pandas/core/dtypes/astype.py\u001b[0m in \u001b[0;36mastype_nansafe\u001b[0;34m(arr, dtype, copy, skipna)\u001b[0m\n\u001b[1;32m    168\u001b[0m     \u001b[0;32mif\u001b[0m \u001b[0mcopy\u001b[0m \u001b[0;32mor\u001b[0m \u001b[0mis_object_dtype\u001b[0m\u001b[0;34m(\u001b[0m\u001b[0marr\u001b[0m\u001b[0;34m.\u001b[0m\u001b[0mdtype\u001b[0m\u001b[0;34m)\u001b[0m \u001b[0;32mor\u001b[0m \u001b[0mis_object_dtype\u001b[0m\u001b[0;34m(\u001b[0m\u001b[0mdtype\u001b[0m\u001b[0;34m)\u001b[0m\u001b[0;34m:\u001b[0m\u001b[0;34m\u001b[0m\u001b[0;34m\u001b[0m\u001b[0m\n\u001b[1;32m    169\u001b[0m         \u001b[0;31m# Explicit copy, or required since NumPy can't view from / to object.\u001b[0m\u001b[0;34m\u001b[0m\u001b[0;34m\u001b[0m\u001b[0m\n\u001b[0;32m--> 170\u001b[0;31m         \u001b[0;32mreturn\u001b[0m \u001b[0marr\u001b[0m\u001b[0;34m.\u001b[0m\u001b[0mastype\u001b[0m\u001b[0;34m(\u001b[0m\u001b[0mdtype\u001b[0m\u001b[0;34m,\u001b[0m \u001b[0mcopy\u001b[0m\u001b[0;34m=\u001b[0m\u001b[0;32mTrue\u001b[0m\u001b[0;34m)\u001b[0m\u001b[0;34m\u001b[0m\u001b[0;34m\u001b[0m\u001b[0m\n\u001b[0m\u001b[1;32m    171\u001b[0m \u001b[0;34m\u001b[0m\u001b[0m\n\u001b[1;32m    172\u001b[0m     \u001b[0;32mreturn\u001b[0m \u001b[0marr\u001b[0m\u001b[0;34m.\u001b[0m\u001b[0mastype\u001b[0m\u001b[0;34m(\u001b[0m\u001b[0mdtype\u001b[0m\u001b[0;34m,\u001b[0m \u001b[0mcopy\u001b[0m\u001b[0;34m=\u001b[0m\u001b[0mcopy\u001b[0m\u001b[0;34m)\u001b[0m\u001b[0;34m\u001b[0m\u001b[0;34m\u001b[0m\u001b[0m\n",
            "\u001b[0;31mValueError\u001b[0m: could not convert string to float: '1.119.976'"
          ]
        }
      ]
    },
    {
      "cell_type": "code",
      "source": [
        "products['promo_price'].astype(str).str.contains(r\"\\d+\\.\\d+\\.\\d+\").value_counts(normalize=True) * 100"
      ],
      "metadata": {
        "colab": {
          "base_uri": "https://localhost:8080/"
        },
        "id": "j1NOSbtE1qM4",
        "outputId": "88bf5099-ea35-4e05-9656-4b82603d1092"
      },
      "execution_count": null,
      "outputs": [
        {
          "output_type": "execute_result",
          "data": {
            "text/plain": [
              "False    56.550095\n",
              "True     43.449905\n",
              "Name: promo_price, dtype: float64"
            ]
          },
          "metadata": {},
          "execution_count": 31
        }
      ]
    },
    {
      "cell_type": "markdown",
      "source": [
        "Here we asume there is corrupted data in promo_prices so we star looking for values afected by the decimal problem"
      ],
      "metadata": {
        "id": "eqrCgebobYvb"
      }
    },
    {
      "cell_type": "code",
      "source": [
        "promo_problems_number = products.loc[(products.promo_price.astype(str).str.contains(\"\\d+\\.\\d+\\.\\d+\"))|(products.promo_price.astype(str).str.contains(\"\\d+\\.\\d{3,}\")), :].shape[0]\n",
        "print(f\"The column promo_price has in total {promo_problems_number} wrong values. This is {round(((promo_problems_number / products.shape[0]) * 100), 2)}% of the rows of the DataFrame\")"
      ],
      "metadata": {
        "colab": {
          "base_uri": "https://localhost:8080/"
        },
        "id": "bShFL27Nq3Da",
        "outputId": "3ae21f47-ab03-4803-f4ee-4a87734ce29f"
      },
      "execution_count": null,
      "outputs": [
        {
          "output_type": "stream",
          "name": "stdout",
          "text": [
            "The column promo_price has in total 9734 wrong values. This is 92.0% of the rows of the DataFrame\n"
          ]
        }
      ]
    },
    {
      "cell_type": "code",
      "source": [
        "# Here we open the table under the condition of the error to reassure the last output is accurate\n",
        "promo_price = products.loc[(products.promo_price.astype(str).str.contains(\"\\d+\\.\\d+\\.\\d+\"))|(products.promo_price.astype(str).str.contains(\"\\d+\\.\\d{3,}\")), :]\n",
        "promo_price.sample(50)"
      ],
      "metadata": {
        "id": "c9W1xiu9jFjm",
        "colab": {
          "base_uri": "https://localhost:8080/",
          "height": 1000
        },
        "outputId": "a46c5af3-faed-49ee-9da0-adb71100c8f5"
      },
      "execution_count": null,
      "outputs": [
        {
          "output_type": "execute_result",
          "data": {
            "text/plain": [
              "             sku                                               name  \\\n",
              "16597    APP2344  Apple MacBook Pro 15 \"Core i7 Touch Bar 28GHz ...   \n",
              "17600    MOS0230               Moshi Vesta X iPhone Case Gray Twill   \n",
              "17032    OWC0231         OWC USB Dock-C 10-port power 80W Rose Gold   \n",
              "13422    APP1776  Smart Battery Apple Battery Case iPhone 6s Cha...   \n",
              "12063    TPL0008  TP-Link Wireless USB Adapter T4U Archer Mac Wi...   \n",
              "17987  APP1673-A    Open - Apple iPhone Silicone Case Cover Red 8/7   \n",
              "775      MAK0022  Maclocks BrandMe Customizable iPad Stand Exclu...   \n",
              "1796     BEZ0180  Be.ez LArobe MacBook Pro Retina sleeve ONE 13 ...   \n",
              "10870    APP1209   Apple iPad Pro 12.9 \"Wi-Fi + Cellular 128GB Gold   \n",
              "3132     LEX0023  Lexar Professional SDHC SD 64GB Class 10 633x ...   \n",
              "13300    UAG0051  Urban Armor Gear iPhone Case Plasma 7 Red / Black   \n",
              "15165    EIZ0026     Eizo FlexScan EV2780W Monitor 27 \"QHD USB-C DP   \n",
              "2378     SPE0158   Speck CandyShell Grip Case iPhone 6 Black / Gray   \n",
              "16748    GTE0103  G-Technology G-RAID 8TB RAID Hard Drive USB 3 ...   \n",
              "1744     MOS0144                    Moshi iGlaze iPhone 6 Plus Lila   \n",
              "12733    PAC1470  OWC ThunderBay 4 Thunderbolt 2 Edition RAID 5 ...   \n",
              "2982     IHE0016              iHealth Ismart Alarm Command for home   \n",
              "2448     TWS0087  TwelveSouth BaseLift Integrated Base Support a...   \n",
              "18728  WDT0368-A  Open - WD My Book External Hard Drive 8TB 35 U...   \n",
              "13432    TUC0281  Tucano SOTTILE UltraSlim Case iPhone 8/7 Plus ...   \n",
              "18113    PAC2471  Synology DS118 NAS Server | 4TB (1x4TB) Seagat...   \n",
              "11368    SAN0138  SanDisk Ultra microSDXC 128GB Memory Card + SD...   \n",
              "1267     GRT0348  Identity Case Griffin iPhone 6 Transparent Cle...   \n",
              "18900    APP2371  Apple Macbook Pro 13 \"Core i5 2.3GHz | 16GB | ...   \n",
              "690      PAC0491  Apple Mac Pro Quad-Core 37GHz | 32GB RAM | 1TB...   \n",
              "595      IKM0022  IK Multimedia iKlip two microphone adapter min...   \n",
              "15298    SPE0192  Speck Case SmartShell MacBook Pro 15 \"Touch Bl...   \n",
              "435      BEZ0167  Be.ez LArobe Case iPad mini / black / green Re...   \n",
              "15220  TRK0005-A    Open - Trackr Bravo Locator Silver Pack 2 units   \n",
              "19199    AP20462  Apple MacBook Pro 13 \"with Touch Bar GHz Core ...   \n",
              "16088    AP20152                    Like new - Apple Magic Trackpad   \n",
              "19230  OWC0262-A  Open - OWC Express External box 25 \"USB 3.0 Plata   \n",
              "15561    STK0009          Stikgo iPhone Case + Car Support 7 Orange   \n",
              "941      REP0185                       Home button repair iPad mini   \n",
              "2847     HOM0007          Homido Virtual Reality Headset for iPhone   \n",
              "19240    APP1472         Apple Magic Keyboard English International   \n",
              "1620     MUV0154    Muvit timer for photos and audio control iPhone   \n",
              "12112    TUC0271                Angolo Tucano iPad Case Pro 97 \"Red   \n",
              "15923    PAC2315  Synology DS1517 + NAS Server | 16GB RAM | 60TB...   \n",
              "15283  MYK0016-A               Open - MyKronoz ZeCircle Black Clock   \n",
              "3033     APP1130             Apple Lightning Dock Space Gray iPhone   \n",
              "11694    SEA0094  Seagate HDD 6TB NAS 35 \"SATA 6GB / S 5900RPM h...   \n",
              "18573    AP20441  Like new - Apple MacBook Pro 15 \"Core i7 Touch...   \n",
              "14493    GRT0456                        Griffin iTrip Aux Lightning   \n",
              "16047    AP20392  Like new - Apple iMac 27 \"Core i7 Retina 5K 4G...   \n",
              "16059    AP20167          Like new - Apple iPhone 7 Plus 32GB Black   \n",
              "19188    XRI0011                   X-Rite color calibrator i1Studio   \n",
              "11414    DLK0116   D-Link DWA-171 USB Adapter AC600 Wi-Fi Dual-band   \n",
              "18152  KAN0034-A  Open - Kanex USB-C Gigabit Ethernet Adapter Ma...   \n",
              "18949    GTE0130  G-Technology G-SPEED XL 80TB RAID Thunderbolt ...   \n",
              "\n",
              "                                                    desc     price  \\\n",
              "16597  New MacBook Pro 15-inch Touch Bar to 28GHz Cor...  3519.000   \n",
              "17600  retro sophistication to your iPhone with raise...    40.000   \n",
              "17032  Aluminum Hub with 10 different ports include 2...   217.990   \n",
              "13422                   Battery Case for iPhone 6s and 6   119.000   \n",
              "12063  Pen Drive Adapter USB 3.0 WiFi AC1200 double b...    42.230   \n",
              "17987  Ultrathin silicone case and microfiber premium...    39.000   \n",
              "775    IPad support for customizable floor with your ...   489.990   \n",
              "1796   Neoprene Sleeve for MacBook Pro Retina 13 inches.    29.950   \n",
              "10870     Pro 12.9-inch new iPad Wi-Fi + Cellular 128GB.  1159.000   \n",
              "3132       Speed ​​SDHC Memory Card 95MB / 45MB to 64GB.    35.990   \n",
              "13300  Cover with military certificate falls and anti...    29.950   \n",
              "15165  Ultrathin 27-inch monitor with adjustable supp...  1191.990   \n",
              "2378   ultra-resistant rubber with anti-slip lines iP...    24.990   \n",
              "16748  8TB RAID disk with 2 bays and removable disks ...   683.990   \n",
              "1744   Rigid shell shock protection and rasguÌ ± os f...    35.000   \n",
              "12733  OWC ThunderBay 4 + 8TB (4x2TB) Seagate Hard Dr...  1061.950   \n",
              "2982   Command to activate and deactivate alarm range...    24.950   \n",
              "2448           Portable and lightweight MacBook support.    49.990   \n",
              "18728  External Hard Drive 8TB refitted with USB 3.0 ...   279.990   \n",
              "13432  transparent and flexible cover with 05mm thick...     9.900   \n",
              "18113  1 bay NAS server with capacity for home use or...   355.980   \n",
              "11368  And adapter card memory 128 GB microSDXC Class...       NaN   \n",
              "1267   Transparent protective sleeve double layer for...    24.990   \n",
              "18900  New MacBook Pro 13-inch Core i7 23 GHz with 16...  1739.000   \n",
              "690    Apple Mac Pro Quad-Core 37GHz 32GB RAM and 1TB...  4769.000   \n",
              "595          IPad mini universal stand microphone stand.    28.990   \n",
              "15298         MacBook 15-inch housing in black Touch Bar    49.990   \n",
              "435                       IPad mini polyurethane sheath.    24.950   \n",
              "15220  2 locators objects with Bluetooth and APP for ...    54.990   \n",
              "19199  Apple MacBook Pro reconditioned by 13-inch Cor...  1999.000   \n",
              "16088  Bluetooth Apple Wireless Trackpad refurbished ...    79.000   \n",
              "19230  Outer carton for HDDs and SDD format 25 inches...    36.990   \n",
              "15561         Holster + Magnetic car holder for iPhone 7    19.990   \n",
              "941    Repair service including parts and labor for i...       NaN   \n",
              "2847       Virtual reality helmet adjustable for iPhone.    69.990   \n",
              "19240  English keyboard Mac and Apple iPad Ultrathin ...   119.000   \n",
              "1620   Trigger for photos and Bluetooth audio driver ...    29.950   \n",
              "12112                   Flap Case for iPad Camera Pro 97    34.990   \n",
              "15923  NAS server with 16GB of RAM and 60TB for Mac a...       NaN   \n",
              "15283  Smartwatch that monitors sleep for iPhone iPad...   599.918   \n",
              "3033     Stand with Lightning Dock Connector and iPhone.    59.000   \n",
              "11694  Internal Hard Drive for NAS in small offices a...   289.990   \n",
              "18573  Refurbished MacBook Pro 15-inch Touch Bar 27GH...  3199.000   \n",
              "14493   Stand with Charger and Cable Lightning Assistant    44.990   \n",
              "16047  Refurbished iMac 27-inch Retina 5K | Core i7 4...  3709.000   \n",
              "16059  Apple iPhone 7 Plus Free Refurbished 32GB Colo...   779.000   \n",
              "19188  Calibrator and profiler monitors and color pri...   519.090   \n",
              "11414  Nano USB Adapter Dual-Band Wireless AC for Mac...    28.990   \n",
              "18152                                                NaN    29.990   \n",
              "18949  80TB external storage and Thunderbolt connecti...  8169.990   \n",
              "\n",
              "      promo_price  in_stock      type  \n",
              "16597   3.273.004         0  1,02E+12  \n",
              "17600     339.901         1  11865403  \n",
              "17032   1.799.899         0  12995397  \n",
              "13422   1.099.902         0  5,49E+11  \n",
              "12063     319.997         0      1334  \n",
              "17987     330.003         0  11865403  \n",
              "775     4.899.895         0      1216  \n",
              "1796      199.892         0  13835403  \n",
              "10870   1.116.801         0      1714  \n",
              "3132      279.873         0  57445397  \n",
              "13300     269.903         0  11865403  \n",
              "15165   9.549.889         0      1296  \n",
              "2378      219.857         0  11865403  \n",
              "16748   5.599.941         1  11935397  \n",
              "1744      199.904         0  11865403  \n",
              "12733   8.263.683         0  11935397  \n",
              "2982      249.865         0  11905404  \n",
              "2448      429.889         0      8696  \n",
              "18728   2.377.045         0  11935397  \n",
              "13432      79.896         0  11865403  \n",
              "18113   2.865.849         0  12175397  \n",
              "11368     502.803         0  57445397  \n",
              "1267      149.895         0  11865403  \n",
              "18900  16.520.045         0  1,02E+12  \n",
              "690    42.899.897         0      1282  \n",
              "595       249.901         1      1216  \n",
              "15298     369.897         1  13835403  \n",
              "435       199.892         0  12635403  \n",
              "15220     499.899         0      1298  \n",
              "19199  16.490.001         1  1,02E+12  \n",
              "16088     499.899         0      1387  \n",
              "19230      13.001         0  11935397  \n",
              "15561     169.896         1  11865403  \n",
              "941       699.899         0  1,44E+11  \n",
              "2847      599.906         0  11905404  \n",
              "19240   1.189.999         1  13855401  \n",
              "1620       89.903         0  11905404  \n",
              "12112     249.901         0  12635403  \n",
              "15923  28.269.121         0  12175397  \n",
              "15283     438.777         0      1298  \n",
              "3033      550.006         1  13615399  \n",
              "11694   2.899.898         0  12655397  \n",
              "18573   2.595.594         0  1,02E+12  \n",
              "14493      44.989         0  13615399  \n",
              "16047  27.055.951         0  51882158  \n",
              "16059   6.590.023         0  85651716  \n",
              "19188   4.649.897         0  12355400  \n",
              "11414     199.892         1      1334  \n",
              "18152     237.925         0      1298  \n",
              "18949  66.999.951         0  11935397  "
            ],
            "text/html": [
              "\n",
              "  <div id=\"df-61bfa3b7-48da-4b04-a450-95adb3043f9a\">\n",
              "    <div class=\"colab-df-container\">\n",
              "      <div>\n",
              "<style scoped>\n",
              "    .dataframe tbody tr th:only-of-type {\n",
              "        vertical-align: middle;\n",
              "    }\n",
              "\n",
              "    .dataframe tbody tr th {\n",
              "        vertical-align: top;\n",
              "    }\n",
              "\n",
              "    .dataframe thead th {\n",
              "        text-align: right;\n",
              "    }\n",
              "</style>\n",
              "<table border=\"1\" class=\"dataframe\">\n",
              "  <thead>\n",
              "    <tr style=\"text-align: right;\">\n",
              "      <th></th>\n",
              "      <th>sku</th>\n",
              "      <th>name</th>\n",
              "      <th>desc</th>\n",
              "      <th>price</th>\n",
              "      <th>promo_price</th>\n",
              "      <th>in_stock</th>\n",
              "      <th>type</th>\n",
              "    </tr>\n",
              "  </thead>\n",
              "  <tbody>\n",
              "    <tr>\n",
              "      <th>16597</th>\n",
              "      <td>APP2344</td>\n",
              "      <td>Apple MacBook Pro 15 \"Core i7 Touch Bar 28GHz ...</td>\n",
              "      <td>New MacBook Pro 15-inch Touch Bar to 28GHz Cor...</td>\n",
              "      <td>3519.000</td>\n",
              "      <td>3.273.004</td>\n",
              "      <td>0</td>\n",
              "      <td>1,02E+12</td>\n",
              "    </tr>\n",
              "    <tr>\n",
              "      <th>17600</th>\n",
              "      <td>MOS0230</td>\n",
              "      <td>Moshi Vesta X iPhone Case Gray Twill</td>\n",
              "      <td>retro sophistication to your iPhone with raise...</td>\n",
              "      <td>40.000</td>\n",
              "      <td>339.901</td>\n",
              "      <td>1</td>\n",
              "      <td>11865403</td>\n",
              "    </tr>\n",
              "    <tr>\n",
              "      <th>17032</th>\n",
              "      <td>OWC0231</td>\n",
              "      <td>OWC USB Dock-C 10-port power 80W Rose Gold</td>\n",
              "      <td>Aluminum Hub with 10 different ports include 2...</td>\n",
              "      <td>217.990</td>\n",
              "      <td>1.799.899</td>\n",
              "      <td>0</td>\n",
              "      <td>12995397</td>\n",
              "    </tr>\n",
              "    <tr>\n",
              "      <th>13422</th>\n",
              "      <td>APP1776</td>\n",
              "      <td>Smart Battery Apple Battery Case iPhone 6s Cha...</td>\n",
              "      <td>Battery Case for iPhone 6s and 6</td>\n",
              "      <td>119.000</td>\n",
              "      <td>1.099.902</td>\n",
              "      <td>0</td>\n",
              "      <td>5,49E+11</td>\n",
              "    </tr>\n",
              "    <tr>\n",
              "      <th>12063</th>\n",
              "      <td>TPL0008</td>\n",
              "      <td>TP-Link Wireless USB Adapter T4U Archer Mac Wi...</td>\n",
              "      <td>Pen Drive Adapter USB 3.0 WiFi AC1200 double b...</td>\n",
              "      <td>42.230</td>\n",
              "      <td>319.997</td>\n",
              "      <td>0</td>\n",
              "      <td>1334</td>\n",
              "    </tr>\n",
              "    <tr>\n",
              "      <th>17987</th>\n",
              "      <td>APP1673-A</td>\n",
              "      <td>Open - Apple iPhone Silicone Case Cover Red 8/7</td>\n",
              "      <td>Ultrathin silicone case and microfiber premium...</td>\n",
              "      <td>39.000</td>\n",
              "      <td>330.003</td>\n",
              "      <td>0</td>\n",
              "      <td>11865403</td>\n",
              "    </tr>\n",
              "    <tr>\n",
              "      <th>775</th>\n",
              "      <td>MAK0022</td>\n",
              "      <td>Maclocks BrandMe Customizable iPad Stand Exclu...</td>\n",
              "      <td>IPad support for customizable floor with your ...</td>\n",
              "      <td>489.990</td>\n",
              "      <td>4.899.895</td>\n",
              "      <td>0</td>\n",
              "      <td>1216</td>\n",
              "    </tr>\n",
              "    <tr>\n",
              "      <th>1796</th>\n",
              "      <td>BEZ0180</td>\n",
              "      <td>Be.ez LArobe MacBook Pro Retina sleeve ONE 13 ...</td>\n",
              "      <td>Neoprene Sleeve for MacBook Pro Retina 13 inches.</td>\n",
              "      <td>29.950</td>\n",
              "      <td>199.892</td>\n",
              "      <td>0</td>\n",
              "      <td>13835403</td>\n",
              "    </tr>\n",
              "    <tr>\n",
              "      <th>10870</th>\n",
              "      <td>APP1209</td>\n",
              "      <td>Apple iPad Pro 12.9 \"Wi-Fi + Cellular 128GB Gold</td>\n",
              "      <td>Pro 12.9-inch new iPad Wi-Fi + Cellular 128GB.</td>\n",
              "      <td>1159.000</td>\n",
              "      <td>1.116.801</td>\n",
              "      <td>0</td>\n",
              "      <td>1714</td>\n",
              "    </tr>\n",
              "    <tr>\n",
              "      <th>3132</th>\n",
              "      <td>LEX0023</td>\n",
              "      <td>Lexar Professional SDHC SD 64GB Class 10 633x ...</td>\n",
              "      <td>Speed ​​SDHC Memory Card 95MB / 45MB to 64GB.</td>\n",
              "      <td>35.990</td>\n",
              "      <td>279.873</td>\n",
              "      <td>0</td>\n",
              "      <td>57445397</td>\n",
              "    </tr>\n",
              "    <tr>\n",
              "      <th>13300</th>\n",
              "      <td>UAG0051</td>\n",
              "      <td>Urban Armor Gear iPhone Case Plasma 7 Red / Black</td>\n",
              "      <td>Cover with military certificate falls and anti...</td>\n",
              "      <td>29.950</td>\n",
              "      <td>269.903</td>\n",
              "      <td>0</td>\n",
              "      <td>11865403</td>\n",
              "    </tr>\n",
              "    <tr>\n",
              "      <th>15165</th>\n",
              "      <td>EIZ0026</td>\n",
              "      <td>Eizo FlexScan EV2780W Monitor 27 \"QHD USB-C DP</td>\n",
              "      <td>Ultrathin 27-inch monitor with adjustable supp...</td>\n",
              "      <td>1191.990</td>\n",
              "      <td>9.549.889</td>\n",
              "      <td>0</td>\n",
              "      <td>1296</td>\n",
              "    </tr>\n",
              "    <tr>\n",
              "      <th>2378</th>\n",
              "      <td>SPE0158</td>\n",
              "      <td>Speck CandyShell Grip Case iPhone 6 Black / Gray</td>\n",
              "      <td>ultra-resistant rubber with anti-slip lines iP...</td>\n",
              "      <td>24.990</td>\n",
              "      <td>219.857</td>\n",
              "      <td>0</td>\n",
              "      <td>11865403</td>\n",
              "    </tr>\n",
              "    <tr>\n",
              "      <th>16748</th>\n",
              "      <td>GTE0103</td>\n",
              "      <td>G-Technology G-RAID 8TB RAID Hard Drive USB 3 ...</td>\n",
              "      <td>8TB RAID disk with 2 bays and removable disks ...</td>\n",
              "      <td>683.990</td>\n",
              "      <td>5.599.941</td>\n",
              "      <td>1</td>\n",
              "      <td>11935397</td>\n",
              "    </tr>\n",
              "    <tr>\n",
              "      <th>1744</th>\n",
              "      <td>MOS0144</td>\n",
              "      <td>Moshi iGlaze iPhone 6 Plus Lila</td>\n",
              "      <td>Rigid shell shock protection and rasguÌ ± os f...</td>\n",
              "      <td>35.000</td>\n",
              "      <td>199.904</td>\n",
              "      <td>0</td>\n",
              "      <td>11865403</td>\n",
              "    </tr>\n",
              "    <tr>\n",
              "      <th>12733</th>\n",
              "      <td>PAC1470</td>\n",
              "      <td>OWC ThunderBay 4 Thunderbolt 2 Edition RAID 5 ...</td>\n",
              "      <td>OWC ThunderBay 4 + 8TB (4x2TB) Seagate Hard Dr...</td>\n",
              "      <td>1061.950</td>\n",
              "      <td>8.263.683</td>\n",
              "      <td>0</td>\n",
              "      <td>11935397</td>\n",
              "    </tr>\n",
              "    <tr>\n",
              "      <th>2982</th>\n",
              "      <td>IHE0016</td>\n",
              "      <td>iHealth Ismart Alarm Command for home</td>\n",
              "      <td>Command to activate and deactivate alarm range...</td>\n",
              "      <td>24.950</td>\n",
              "      <td>249.865</td>\n",
              "      <td>0</td>\n",
              "      <td>11905404</td>\n",
              "    </tr>\n",
              "    <tr>\n",
              "      <th>2448</th>\n",
              "      <td>TWS0087</td>\n",
              "      <td>TwelveSouth BaseLift Integrated Base Support a...</td>\n",
              "      <td>Portable and lightweight MacBook support.</td>\n",
              "      <td>49.990</td>\n",
              "      <td>429.889</td>\n",
              "      <td>0</td>\n",
              "      <td>8696</td>\n",
              "    </tr>\n",
              "    <tr>\n",
              "      <th>18728</th>\n",
              "      <td>WDT0368-A</td>\n",
              "      <td>Open - WD My Book External Hard Drive 8TB 35 U...</td>\n",
              "      <td>External Hard Drive 8TB refitted with USB 3.0 ...</td>\n",
              "      <td>279.990</td>\n",
              "      <td>2.377.045</td>\n",
              "      <td>0</td>\n",
              "      <td>11935397</td>\n",
              "    </tr>\n",
              "    <tr>\n",
              "      <th>13432</th>\n",
              "      <td>TUC0281</td>\n",
              "      <td>Tucano SOTTILE UltraSlim Case iPhone 8/7 Plus ...</td>\n",
              "      <td>transparent and flexible cover with 05mm thick...</td>\n",
              "      <td>9.900</td>\n",
              "      <td>79.896</td>\n",
              "      <td>0</td>\n",
              "      <td>11865403</td>\n",
              "    </tr>\n",
              "    <tr>\n",
              "      <th>18113</th>\n",
              "      <td>PAC2471</td>\n",
              "      <td>Synology DS118 NAS Server | 4TB (1x4TB) Seagat...</td>\n",
              "      <td>1 bay NAS server with capacity for home use or...</td>\n",
              "      <td>355.980</td>\n",
              "      <td>2.865.849</td>\n",
              "      <td>0</td>\n",
              "      <td>12175397</td>\n",
              "    </tr>\n",
              "    <tr>\n",
              "      <th>11368</th>\n",
              "      <td>SAN0138</td>\n",
              "      <td>SanDisk Ultra microSDXC 128GB Memory Card + SD...</td>\n",
              "      <td>And adapter card memory 128 GB microSDXC Class...</td>\n",
              "      <td>NaN</td>\n",
              "      <td>502.803</td>\n",
              "      <td>0</td>\n",
              "      <td>57445397</td>\n",
              "    </tr>\n",
              "    <tr>\n",
              "      <th>1267</th>\n",
              "      <td>GRT0348</td>\n",
              "      <td>Identity Case Griffin iPhone 6 Transparent Cle...</td>\n",
              "      <td>Transparent protective sleeve double layer for...</td>\n",
              "      <td>24.990</td>\n",
              "      <td>149.895</td>\n",
              "      <td>0</td>\n",
              "      <td>11865403</td>\n",
              "    </tr>\n",
              "    <tr>\n",
              "      <th>18900</th>\n",
              "      <td>APP2371</td>\n",
              "      <td>Apple Macbook Pro 13 \"Core i5 2.3GHz | 16GB | ...</td>\n",
              "      <td>New MacBook Pro 13-inch Core i7 23 GHz with 16...</td>\n",
              "      <td>1739.000</td>\n",
              "      <td>16.520.045</td>\n",
              "      <td>0</td>\n",
              "      <td>1,02E+12</td>\n",
              "    </tr>\n",
              "    <tr>\n",
              "      <th>690</th>\n",
              "      <td>PAC0491</td>\n",
              "      <td>Apple Mac Pro Quad-Core 37GHz | 32GB RAM | 1TB...</td>\n",
              "      <td>Apple Mac Pro Quad-Core 37GHz 32GB RAM and 1TB...</td>\n",
              "      <td>4769.000</td>\n",
              "      <td>42.899.897</td>\n",
              "      <td>0</td>\n",
              "      <td>1282</td>\n",
              "    </tr>\n",
              "    <tr>\n",
              "      <th>595</th>\n",
              "      <td>IKM0022</td>\n",
              "      <td>IK Multimedia iKlip two microphone adapter min...</td>\n",
              "      <td>IPad mini universal stand microphone stand.</td>\n",
              "      <td>28.990</td>\n",
              "      <td>249.901</td>\n",
              "      <td>1</td>\n",
              "      <td>1216</td>\n",
              "    </tr>\n",
              "    <tr>\n",
              "      <th>15298</th>\n",
              "      <td>SPE0192</td>\n",
              "      <td>Speck Case SmartShell MacBook Pro 15 \"Touch Bl...</td>\n",
              "      <td>MacBook 15-inch housing in black Touch Bar</td>\n",
              "      <td>49.990</td>\n",
              "      <td>369.897</td>\n",
              "      <td>1</td>\n",
              "      <td>13835403</td>\n",
              "    </tr>\n",
              "    <tr>\n",
              "      <th>435</th>\n",
              "      <td>BEZ0167</td>\n",
              "      <td>Be.ez LArobe Case iPad mini / black / green Re...</td>\n",
              "      <td>IPad mini polyurethane sheath.</td>\n",
              "      <td>24.950</td>\n",
              "      <td>199.892</td>\n",
              "      <td>0</td>\n",
              "      <td>12635403</td>\n",
              "    </tr>\n",
              "    <tr>\n",
              "      <th>15220</th>\n",
              "      <td>TRK0005-A</td>\n",
              "      <td>Open - Trackr Bravo Locator Silver Pack 2 units</td>\n",
              "      <td>2 locators objects with Bluetooth and APP for ...</td>\n",
              "      <td>54.990</td>\n",
              "      <td>499.899</td>\n",
              "      <td>0</td>\n",
              "      <td>1298</td>\n",
              "    </tr>\n",
              "    <tr>\n",
              "      <th>19199</th>\n",
              "      <td>AP20462</td>\n",
              "      <td>Apple MacBook Pro 13 \"with Touch Bar GHz Core ...</td>\n",
              "      <td>Apple MacBook Pro reconditioned by 13-inch Cor...</td>\n",
              "      <td>1999.000</td>\n",
              "      <td>16.490.001</td>\n",
              "      <td>1</td>\n",
              "      <td>1,02E+12</td>\n",
              "    </tr>\n",
              "    <tr>\n",
              "      <th>16088</th>\n",
              "      <td>AP20152</td>\n",
              "      <td>Like new - Apple Magic Trackpad</td>\n",
              "      <td>Bluetooth Apple Wireless Trackpad refurbished ...</td>\n",
              "      <td>79.000</td>\n",
              "      <td>499.899</td>\n",
              "      <td>0</td>\n",
              "      <td>1387</td>\n",
              "    </tr>\n",
              "    <tr>\n",
              "      <th>19230</th>\n",
              "      <td>OWC0262-A</td>\n",
              "      <td>Open - OWC Express External box 25 \"USB 3.0 Plata</td>\n",
              "      <td>Outer carton for HDDs and SDD format 25 inches...</td>\n",
              "      <td>36.990</td>\n",
              "      <td>13.001</td>\n",
              "      <td>0</td>\n",
              "      <td>11935397</td>\n",
              "    </tr>\n",
              "    <tr>\n",
              "      <th>15561</th>\n",
              "      <td>STK0009</td>\n",
              "      <td>Stikgo iPhone Case + Car Support 7 Orange</td>\n",
              "      <td>Holster + Magnetic car holder for iPhone 7</td>\n",
              "      <td>19.990</td>\n",
              "      <td>169.896</td>\n",
              "      <td>1</td>\n",
              "      <td>11865403</td>\n",
              "    </tr>\n",
              "    <tr>\n",
              "      <th>941</th>\n",
              "      <td>REP0185</td>\n",
              "      <td>Home button repair iPad mini</td>\n",
              "      <td>Repair service including parts and labor for i...</td>\n",
              "      <td>NaN</td>\n",
              "      <td>699.899</td>\n",
              "      <td>0</td>\n",
              "      <td>1,44E+11</td>\n",
              "    </tr>\n",
              "    <tr>\n",
              "      <th>2847</th>\n",
              "      <td>HOM0007</td>\n",
              "      <td>Homido Virtual Reality Headset for iPhone</td>\n",
              "      <td>Virtual reality helmet adjustable for iPhone.</td>\n",
              "      <td>69.990</td>\n",
              "      <td>599.906</td>\n",
              "      <td>0</td>\n",
              "      <td>11905404</td>\n",
              "    </tr>\n",
              "    <tr>\n",
              "      <th>19240</th>\n",
              "      <td>APP1472</td>\n",
              "      <td>Apple Magic Keyboard English International</td>\n",
              "      <td>English keyboard Mac and Apple iPad Ultrathin ...</td>\n",
              "      <td>119.000</td>\n",
              "      <td>1.189.999</td>\n",
              "      <td>1</td>\n",
              "      <td>13855401</td>\n",
              "    </tr>\n",
              "    <tr>\n",
              "      <th>1620</th>\n",
              "      <td>MUV0154</td>\n",
              "      <td>Muvit timer for photos and audio control iPhone</td>\n",
              "      <td>Trigger for photos and Bluetooth audio driver ...</td>\n",
              "      <td>29.950</td>\n",
              "      <td>89.903</td>\n",
              "      <td>0</td>\n",
              "      <td>11905404</td>\n",
              "    </tr>\n",
              "    <tr>\n",
              "      <th>12112</th>\n",
              "      <td>TUC0271</td>\n",
              "      <td>Angolo Tucano iPad Case Pro 97 \"Red</td>\n",
              "      <td>Flap Case for iPad Camera Pro 97</td>\n",
              "      <td>34.990</td>\n",
              "      <td>249.901</td>\n",
              "      <td>0</td>\n",
              "      <td>12635403</td>\n",
              "    </tr>\n",
              "    <tr>\n",
              "      <th>15923</th>\n",
              "      <td>PAC2315</td>\n",
              "      <td>Synology DS1517 + NAS Server | 16GB RAM | 60TB...</td>\n",
              "      <td>NAS server with 16GB of RAM and 60TB for Mac a...</td>\n",
              "      <td>NaN</td>\n",
              "      <td>28.269.121</td>\n",
              "      <td>0</td>\n",
              "      <td>12175397</td>\n",
              "    </tr>\n",
              "    <tr>\n",
              "      <th>15283</th>\n",
              "      <td>MYK0016-A</td>\n",
              "      <td>Open - MyKronoz ZeCircle Black Clock</td>\n",
              "      <td>Smartwatch that monitors sleep for iPhone iPad...</td>\n",
              "      <td>599.918</td>\n",
              "      <td>438.777</td>\n",
              "      <td>0</td>\n",
              "      <td>1298</td>\n",
              "    </tr>\n",
              "    <tr>\n",
              "      <th>3033</th>\n",
              "      <td>APP1130</td>\n",
              "      <td>Apple Lightning Dock Space Gray iPhone</td>\n",
              "      <td>Stand with Lightning Dock Connector and iPhone.</td>\n",
              "      <td>59.000</td>\n",
              "      <td>550.006</td>\n",
              "      <td>1</td>\n",
              "      <td>13615399</td>\n",
              "    </tr>\n",
              "    <tr>\n",
              "      <th>11694</th>\n",
              "      <td>SEA0094</td>\n",
              "      <td>Seagate HDD 6TB NAS 35 \"SATA 6GB / S 5900RPM h...</td>\n",
              "      <td>Internal Hard Drive for NAS in small offices a...</td>\n",
              "      <td>289.990</td>\n",
              "      <td>2.899.898</td>\n",
              "      <td>0</td>\n",
              "      <td>12655397</td>\n",
              "    </tr>\n",
              "    <tr>\n",
              "      <th>18573</th>\n",
              "      <td>AP20441</td>\n",
              "      <td>Like new - Apple MacBook Pro 15 \"Core i7 Touch...</td>\n",
              "      <td>Refurbished MacBook Pro 15-inch Touch Bar 27GH...</td>\n",
              "      <td>3199.000</td>\n",
              "      <td>2.595.594</td>\n",
              "      <td>0</td>\n",
              "      <td>1,02E+12</td>\n",
              "    </tr>\n",
              "    <tr>\n",
              "      <th>14493</th>\n",
              "      <td>GRT0456</td>\n",
              "      <td>Griffin iTrip Aux Lightning</td>\n",
              "      <td>Stand with Charger and Cable Lightning Assistant</td>\n",
              "      <td>44.990</td>\n",
              "      <td>44.989</td>\n",
              "      <td>0</td>\n",
              "      <td>13615399</td>\n",
              "    </tr>\n",
              "    <tr>\n",
              "      <th>16047</th>\n",
              "      <td>AP20392</td>\n",
              "      <td>Like new - Apple iMac 27 \"Core i7 Retina 5K 4G...</td>\n",
              "      <td>Refurbished iMac 27-inch Retina 5K | Core i7 4...</td>\n",
              "      <td>3709.000</td>\n",
              "      <td>27.055.951</td>\n",
              "      <td>0</td>\n",
              "      <td>51882158</td>\n",
              "    </tr>\n",
              "    <tr>\n",
              "      <th>16059</th>\n",
              "      <td>AP20167</td>\n",
              "      <td>Like new - Apple iPhone 7 Plus 32GB Black</td>\n",
              "      <td>Apple iPhone 7 Plus Free Refurbished 32GB Colo...</td>\n",
              "      <td>779.000</td>\n",
              "      <td>6.590.023</td>\n",
              "      <td>0</td>\n",
              "      <td>85651716</td>\n",
              "    </tr>\n",
              "    <tr>\n",
              "      <th>19188</th>\n",
              "      <td>XRI0011</td>\n",
              "      <td>X-Rite color calibrator i1Studio</td>\n",
              "      <td>Calibrator and profiler monitors and color pri...</td>\n",
              "      <td>519.090</td>\n",
              "      <td>4.649.897</td>\n",
              "      <td>0</td>\n",
              "      <td>12355400</td>\n",
              "    </tr>\n",
              "    <tr>\n",
              "      <th>11414</th>\n",
              "      <td>DLK0116</td>\n",
              "      <td>D-Link DWA-171 USB Adapter AC600 Wi-Fi Dual-band</td>\n",
              "      <td>Nano USB Adapter Dual-Band Wireless AC for Mac...</td>\n",
              "      <td>28.990</td>\n",
              "      <td>199.892</td>\n",
              "      <td>1</td>\n",
              "      <td>1334</td>\n",
              "    </tr>\n",
              "    <tr>\n",
              "      <th>18152</th>\n",
              "      <td>KAN0034-A</td>\n",
              "      <td>Open - Kanex USB-C Gigabit Ethernet Adapter Ma...</td>\n",
              "      <td>NaN</td>\n",
              "      <td>29.990</td>\n",
              "      <td>237.925</td>\n",
              "      <td>0</td>\n",
              "      <td>1298</td>\n",
              "    </tr>\n",
              "    <tr>\n",
              "      <th>18949</th>\n",
              "      <td>GTE0130</td>\n",
              "      <td>G-Technology G-SPEED XL 80TB RAID Thunderbolt ...</td>\n",
              "      <td>80TB external storage and Thunderbolt connecti...</td>\n",
              "      <td>8169.990</td>\n",
              "      <td>66.999.951</td>\n",
              "      <td>0</td>\n",
              "      <td>11935397</td>\n",
              "    </tr>\n",
              "  </tbody>\n",
              "</table>\n",
              "</div>\n",
              "      <button class=\"colab-df-convert\" onclick=\"convertToInteractive('df-61bfa3b7-48da-4b04-a450-95adb3043f9a')\"\n",
              "              title=\"Convert this dataframe to an interactive table.\"\n",
              "              style=\"display:none;\">\n",
              "        \n",
              "  <svg xmlns=\"http://www.w3.org/2000/svg\" height=\"24px\"viewBox=\"0 0 24 24\"\n",
              "       width=\"24px\">\n",
              "    <path d=\"M0 0h24v24H0V0z\" fill=\"none\"/>\n",
              "    <path d=\"M18.56 5.44l.94 2.06.94-2.06 2.06-.94-2.06-.94-.94-2.06-.94 2.06-2.06.94zm-11 1L8.5 8.5l.94-2.06 2.06-.94-2.06-.94L8.5 2.5l-.94 2.06-2.06.94zm10 10l.94 2.06.94-2.06 2.06-.94-2.06-.94-.94-2.06-.94 2.06-2.06.94z\"/><path d=\"M17.41 7.96l-1.37-1.37c-.4-.4-.92-.59-1.43-.59-.52 0-1.04.2-1.43.59L10.3 9.45l-7.72 7.72c-.78.78-.78 2.05 0 2.83L4 21.41c.39.39.9.59 1.41.59.51 0 1.02-.2 1.41-.59l7.78-7.78 2.81-2.81c.8-.78.8-2.07 0-2.86zM5.41 20L4 18.59l7.72-7.72 1.47 1.35L5.41 20z\"/>\n",
              "  </svg>\n",
              "      </button>\n",
              "      \n",
              "  <style>\n",
              "    .colab-df-container {\n",
              "      display:flex;\n",
              "      flex-wrap:wrap;\n",
              "      gap: 12px;\n",
              "    }\n",
              "\n",
              "    .colab-df-convert {\n",
              "      background-color: #E8F0FE;\n",
              "      border: none;\n",
              "      border-radius: 50%;\n",
              "      cursor: pointer;\n",
              "      display: none;\n",
              "      fill: #1967D2;\n",
              "      height: 32px;\n",
              "      padding: 0 0 0 0;\n",
              "      width: 32px;\n",
              "    }\n",
              "\n",
              "    .colab-df-convert:hover {\n",
              "      background-color: #E2EBFA;\n",
              "      box-shadow: 0px 1px 2px rgba(60, 64, 67, 0.3), 0px 1px 3px 1px rgba(60, 64, 67, 0.15);\n",
              "      fill: #174EA6;\n",
              "    }\n",
              "\n",
              "    [theme=dark] .colab-df-convert {\n",
              "      background-color: #3B4455;\n",
              "      fill: #D2E3FC;\n",
              "    }\n",
              "\n",
              "    [theme=dark] .colab-df-convert:hover {\n",
              "      background-color: #434B5C;\n",
              "      box-shadow: 0px 1px 3px 1px rgba(0, 0, 0, 0.15);\n",
              "      filter: drop-shadow(0px 1px 2px rgba(0, 0, 0, 0.3));\n",
              "      fill: #FFFFFF;\n",
              "    }\n",
              "  </style>\n",
              "\n",
              "      <script>\n",
              "        const buttonEl =\n",
              "          document.querySelector('#df-61bfa3b7-48da-4b04-a450-95adb3043f9a button.colab-df-convert');\n",
              "        buttonEl.style.display =\n",
              "          google.colab.kernel.accessAllowed ? 'block' : 'none';\n",
              "\n",
              "        async function convertToInteractive(key) {\n",
              "          const element = document.querySelector('#df-61bfa3b7-48da-4b04-a450-95adb3043f9a');\n",
              "          const dataTable =\n",
              "            await google.colab.kernel.invokeFunction('convertToInteractive',\n",
              "                                                     [key], {});\n",
              "          if (!dataTable) return;\n",
              "\n",
              "          const docLinkHtml = 'Like what you see? Visit the ' +\n",
              "            '<a target=\"_blank\" href=https://colab.research.google.com/notebooks/data_table.ipynb>data table notebook</a>'\n",
              "            + ' to learn more about interactive tables.';\n",
              "          element.innerHTML = '';\n",
              "          dataTable['output_type'] = 'display_data';\n",
              "          await google.colab.output.renderOutput(dataTable, element);\n",
              "          const docLink = document.createElement('div');\n",
              "          docLink.innerHTML = docLinkHtml;\n",
              "          element.appendChild(docLink);\n",
              "        }\n",
              "      </script>\n",
              "    </div>\n",
              "  </div>\n",
              "  "
            ]
          },
          "metadata": {},
          "execution_count": 37
        }
      ]
    },
    {
      "cell_type": "code",
      "source": [
        "# As 93% of the data seems untrustworthy, and deleting so many rows will leave us without products, we delete this column.\n",
        "products_cl = products.drop(columns=[\"promo_price\"])"
      ],
      "metadata": {
        "id": "9L65LbwdjXaM"
      },
      "execution_count": null,
      "outputs": []
    },
    {
      "cell_type": "code",
      "source": [
        "products_cl.info()"
      ],
      "metadata": {
        "colab": {
          "base_uri": "https://localhost:8080/"
        },
        "id": "gkOGx2PvrIuT",
        "outputId": "09fa72c0-45f3-41b5-a0dc-aae0a7aefdc7"
      },
      "execution_count": null,
      "outputs": [
        {
          "output_type": "stream",
          "name": "stdout",
          "text": [
            "<class 'pandas.core.frame.DataFrame'>\n",
            "Int64Index: 10580 entries, 0 to 19325\n",
            "Data columns (total 6 columns):\n",
            " #   Column    Non-Null Count  Dtype  \n",
            "---  ------    --------------  -----  \n",
            " 0   sku       10580 non-null  object \n",
            " 1   name      10580 non-null  object \n",
            " 2   desc      10573 non-null  object \n",
            " 3   price     10157 non-null  float64\n",
            " 4   in_stock  10580 non-null  int64  \n",
            " 5   type      10530 non-null  object \n",
            "dtypes: float64(1), int64(1), object(4)\n",
            "memory usage: 578.6+ KB\n"
          ]
        }
      ]
    },
    {
      "cell_type": "markdown",
      "source": [
        "# Data quality work\n",
        "\n",
        "\n"
      ],
      "metadata": {
        "id": "Ni82V_O4mfSy"
      }
    },
    {
      "cell_type": "code",
      "source": [
        "\n",
        "orders.to_csv(\"orders_cl.csv\", index=False)\n",
        "files.download(\"orders_cl.csv\")\n",
        "\n",
        "orderlines.to_csv(\"orderlines_cl.csv\", index=False)\n",
        "files.download(\"orderlines_cl.csv\")\n",
        "\n",
        "products_cl.to_csv(\"products_cl.csv\", index=False)\n",
        "files.download(\"products_cl.csv\")"
      ],
      "metadata": {
        "id": "3tY_W-I64v_q"
      },
      "execution_count": null,
      "outputs": []
    },
    {
      "cell_type": "markdown",
      "source": [
        "\n",
        "clean datasets"
      ],
      "metadata": {
        "id": "cvQ44Y2JcIxv"
      }
    },
    {
      "cell_type": "code",
      "source": [
        "import pandas as pd\n",
        "\n",
        "def gd_path(file_id):\n",
        "    \"\"\"Generate a shareable link from Google Drive file id.\"\"\"\n",
        "    return f\"={file_id}\"\n",
        "\n",
        "# Google Drive file ids\n",
        "file_ids = {\n",
        "    \"brands\": \"14_RkEUuhf9-otJqbVITDTvus45zR8LJp\",\n",
        "    \"orderlines\": \"18Tzi4SxwYsijRdhvUQUGSdi0A2WzlzA9\",\n",
        "    \"orders\": \"14HwyeNbaWy8IZ9BkwbDSxfDURHUtJzJ7\",\n",
        "    \"products\": \"1fQVI9IhFcDFMCEl5AQzJNKcEFMnYyLuA\",\n",
        "}\n",
        "\n",
        "# Read data from Google Drive\n",
        "brands_cl = pd.read_csv(gd_path(file_ids[\"brands\"]), sep=\",\")\n",
        "orderlines_cl = pd.read_csv(gd_path(file_ids[\"orderlines\"]), sep=\",\", parse_dates=[\"date\"])\n",
        "orders_cl = pd.read_csv(gd_path(file_ids[\"orders\"]), sep=\",\", parse_dates=[\"created_date\"])\n",
        "products_cl = pd.read_csv(gd_path(file_ids[\"products\"]), sep=\",\")"
      ],
      "metadata": {
        "id": "6j7MT-GBZmXQ"
      },
      "execution_count": null,
      "outputs": []
    },
    {
      "cell_type": "code",
      "source": [],
      "metadata": {
        "id": "lDMKur1FWTgC"
      },
      "execution_count": null,
      "outputs": []
    },
    {
      "cell_type": "markdown",
      "source": [
        "#  <u>Analizing Discounts</u>\n",
        "\n",
        "##Does revenue grows when discounts increases?\n",
        "\n",
        "* *The Marketing Team Lead is convinced that offering discounts is beneficial in the long run. She believes discounts improve customer acquisition, satisfaction and retention, and allow the company to grow.*\n",
        "* *The main investors in the Board are worried about offering aggressive discounts. They have pointed out how the company’s recent quarterly results showed an increase in orders placed, but a decrease in the total revenue. They prefer that the company positions itself in the quality segment, rather than competing to offer the lowest prices in the market.*"
      ],
      "metadata": {
        "id": "6JJyFwMZARJa"
      }
    },
    {
      "cell_type": "code",
      "source": [
        "ol = orderlines_df\n",
        "p = products_df\n",
        "p_ol = ol.merge(\n",
        "    p,\n",
        "    how=\"left\",\n",
        "    left_on=\"sku\",\n",
        "    right_on=\"sku\"\n",
        ")\n",
        "\n",
        "o = orders_df\n",
        "p_ol_o = p_ol.merge(\n",
        "    o,\n",
        "    how=\"left\",\n",
        "    left_on=\"id_order\",\n",
        "    right_on=\"order_id\"\n",
        ")"
      ],
      "metadata": {
        "id": "UBflrIJBVQVt"
      },
      "execution_count": null,
      "outputs": []
    },
    {
      "cell_type": "markdown",
      "source": [
        "`p_ol_o` is the merger of the datasets `products_df`, `orderlines_df` and `orders_df`."
      ],
      "metadata": {
        "id": "qw2yNXxZVFo3"
      }
    },
    {
      "cell_type": "markdown",
      "source": [
        "Just an overview of the discounts:"
      ],
      "metadata": {
        "id": "Ewm3ISmnxnw7"
      }
    },
    {
      "cell_type": "code",
      "source": [
        "p_ol_o[\"discount\"] = p_ol_o[\"price\"] - p_ol_o[\"unit_price\"]\n",
        "p_ol_o[[\"sku\", \"name\", \"unit_price\", \"price\", \"discount\", \"date\"]]"
      ],
      "metadata": {
        "id": "04cc3b24phe9",
        "colab": {
          "base_uri": "https://localhost:8080/",
          "height": 641
        },
        "outputId": "fcb0ff24-b170-4fd6-dca5-33a0e8c27f15"
      },
      "execution_count": null,
      "outputs": [
        {
          "output_type": "execute_result",
          "data": {
            "text/plain": [
              "            sku                                               name  \\\n",
              "0       OTT0133  Otterbox iPhone Case Symmetry 2.0 SE / 5s / 5 ...   \n",
              "1       LGE0043         27UD58-B LG Monitor 27 \"4K UHD DisplayPort   \n",
              "2       PAR0071  Parrot Bebop 2 White + Command FLYPAD and FPV ...   \n",
              "3       WDT0315              Blue WD 2TB Hard Drive 35 \"Mac and PC   \n",
              "4       JBL0104                      Gray Bluetooth Speaker JBL GO   \n",
              "...         ...                                                ...   \n",
              "216245  JBL0122                JBL T450 BT Bluetooth Headset Black   \n",
              "216246  PAC0653  Samsung SSD 850 expansion kit EVO 250GB + Data...   \n",
              "216247  APP0698  Apple Lightning Cable Connector to USB 1m Whit...   \n",
              "216248  BEZ0204            Be.ez LArobe Case Mix Macbook 12 \"Green   \n",
              "216249  APP0927  EarPods Apple Headphones with Remote and Mic (...   \n",
              "\n",
              "        unit_price  price  discount                date  \n",
              "0            18.99  34.99     16.00 2017-01-01 00:07:19  \n",
              "1           399.00 429.00     30.00 2017-01-01 00:19:45  \n",
              "2           474.05 699.00    224.95 2017-01-01 00:20:57  \n",
              "3            68.39  79.00     10.61 2017-01-01 00:51:40  \n",
              "4            23.74  29.90      6.16 2017-01-01 01:06:38  \n",
              "...            ...    ...       ...                 ...  \n",
              "216245       42.99  49.95      6.96 2018-03-14 13:57:25  \n",
              "216246      141.58 215.98     74.40 2018-03-14 13:57:34  \n",
              "216247        9.99  25.00     15.01 2018-03-14 13:57:41  \n",
              "216248       19.99  29.99     10.00 2018-03-14 13:58:01  \n",
              "216249       13.99  35.00     21.01 2018-03-14 13:58:36  \n",
              "\n",
              "[216250 rows x 6 columns]"
            ],
            "text/html": [
              "\n",
              "  <div id=\"df-95fedc9e-bf16-4dfb-a51f-79cc94848b45\">\n",
              "    <div class=\"colab-df-container\">\n",
              "      <div>\n",
              "<style scoped>\n",
              "    .dataframe tbody tr th:only-of-type {\n",
              "        vertical-align: middle;\n",
              "    }\n",
              "\n",
              "    .dataframe tbody tr th {\n",
              "        vertical-align: top;\n",
              "    }\n",
              "\n",
              "    .dataframe thead th {\n",
              "        text-align: right;\n",
              "    }\n",
              "</style>\n",
              "<table border=\"1\" class=\"dataframe\">\n",
              "  <thead>\n",
              "    <tr style=\"text-align: right;\">\n",
              "      <th></th>\n",
              "      <th>sku</th>\n",
              "      <th>name</th>\n",
              "      <th>unit_price</th>\n",
              "      <th>price</th>\n",
              "      <th>discount</th>\n",
              "      <th>date</th>\n",
              "    </tr>\n",
              "  </thead>\n",
              "  <tbody>\n",
              "    <tr>\n",
              "      <th>0</th>\n",
              "      <td>OTT0133</td>\n",
              "      <td>Otterbox iPhone Case Symmetry 2.0 SE / 5s / 5 ...</td>\n",
              "      <td>18.99</td>\n",
              "      <td>34.99</td>\n",
              "      <td>16.00</td>\n",
              "      <td>2017-01-01 00:07:19</td>\n",
              "    </tr>\n",
              "    <tr>\n",
              "      <th>1</th>\n",
              "      <td>LGE0043</td>\n",
              "      <td>27UD58-B LG Monitor 27 \"4K UHD DisplayPort</td>\n",
              "      <td>399.00</td>\n",
              "      <td>429.00</td>\n",
              "      <td>30.00</td>\n",
              "      <td>2017-01-01 00:19:45</td>\n",
              "    </tr>\n",
              "    <tr>\n",
              "      <th>2</th>\n",
              "      <td>PAR0071</td>\n",
              "      <td>Parrot Bebop 2 White + Command FLYPAD and FPV ...</td>\n",
              "      <td>474.05</td>\n",
              "      <td>699.00</td>\n",
              "      <td>224.95</td>\n",
              "      <td>2017-01-01 00:20:57</td>\n",
              "    </tr>\n",
              "    <tr>\n",
              "      <th>3</th>\n",
              "      <td>WDT0315</td>\n",
              "      <td>Blue WD 2TB Hard Drive 35 \"Mac and PC</td>\n",
              "      <td>68.39</td>\n",
              "      <td>79.00</td>\n",
              "      <td>10.61</td>\n",
              "      <td>2017-01-01 00:51:40</td>\n",
              "    </tr>\n",
              "    <tr>\n",
              "      <th>4</th>\n",
              "      <td>JBL0104</td>\n",
              "      <td>Gray Bluetooth Speaker JBL GO</td>\n",
              "      <td>23.74</td>\n",
              "      <td>29.90</td>\n",
              "      <td>6.16</td>\n",
              "      <td>2017-01-01 01:06:38</td>\n",
              "    </tr>\n",
              "    <tr>\n",
              "      <th>...</th>\n",
              "      <td>...</td>\n",
              "      <td>...</td>\n",
              "      <td>...</td>\n",
              "      <td>...</td>\n",
              "      <td>...</td>\n",
              "      <td>...</td>\n",
              "    </tr>\n",
              "    <tr>\n",
              "      <th>216245</th>\n",
              "      <td>JBL0122</td>\n",
              "      <td>JBL T450 BT Bluetooth Headset Black</td>\n",
              "      <td>42.99</td>\n",
              "      <td>49.95</td>\n",
              "      <td>6.96</td>\n",
              "      <td>2018-03-14 13:57:25</td>\n",
              "    </tr>\n",
              "    <tr>\n",
              "      <th>216246</th>\n",
              "      <td>PAC0653</td>\n",
              "      <td>Samsung SSD 850 expansion kit EVO 250GB + Data...</td>\n",
              "      <td>141.58</td>\n",
              "      <td>215.98</td>\n",
              "      <td>74.40</td>\n",
              "      <td>2018-03-14 13:57:34</td>\n",
              "    </tr>\n",
              "    <tr>\n",
              "      <th>216247</th>\n",
              "      <td>APP0698</td>\n",
              "      <td>Apple Lightning Cable Connector to USB 1m Whit...</td>\n",
              "      <td>9.99</td>\n",
              "      <td>25.00</td>\n",
              "      <td>15.01</td>\n",
              "      <td>2018-03-14 13:57:41</td>\n",
              "    </tr>\n",
              "    <tr>\n",
              "      <th>216248</th>\n",
              "      <td>BEZ0204</td>\n",
              "      <td>Be.ez LArobe Case Mix Macbook 12 \"Green</td>\n",
              "      <td>19.99</td>\n",
              "      <td>29.99</td>\n",
              "      <td>10.00</td>\n",
              "      <td>2018-03-14 13:58:01</td>\n",
              "    </tr>\n",
              "    <tr>\n",
              "      <th>216249</th>\n",
              "      <td>APP0927</td>\n",
              "      <td>EarPods Apple Headphones with Remote and Mic (...</td>\n",
              "      <td>13.99</td>\n",
              "      <td>35.00</td>\n",
              "      <td>21.01</td>\n",
              "      <td>2018-03-14 13:58:36</td>\n",
              "    </tr>\n",
              "  </tbody>\n",
              "</table>\n",
              "<p>216250 rows × 6 columns</p>\n",
              "</div>\n",
              "      <button class=\"colab-df-convert\" onclick=\"convertToInteractive('df-95fedc9e-bf16-4dfb-a51f-79cc94848b45')\"\n",
              "              title=\"Convert this dataframe to an interactive table.\"\n",
              "              style=\"display:none;\">\n",
              "        \n",
              "  <svg xmlns=\"http://www.w3.org/2000/svg\" height=\"24px\"viewBox=\"0 0 24 24\"\n",
              "       width=\"24px\">\n",
              "    <path d=\"M0 0h24v24H0V0z\" fill=\"none\"/>\n",
              "    <path d=\"M18.56 5.44l.94 2.06.94-2.06 2.06-.94-2.06-.94-.94-2.06-.94 2.06-2.06.94zm-11 1L8.5 8.5l.94-2.06 2.06-.94-2.06-.94L8.5 2.5l-.94 2.06-2.06.94zm10 10l.94 2.06.94-2.06 2.06-.94-2.06-.94-.94-2.06-.94 2.06-2.06.94z\"/><path d=\"M17.41 7.96l-1.37-1.37c-.4-.4-.92-.59-1.43-.59-.52 0-1.04.2-1.43.59L10.3 9.45l-7.72 7.72c-.78.78-.78 2.05 0 2.83L4 21.41c.39.39.9.59 1.41.59.51 0 1.02-.2 1.41-.59l7.78-7.78 2.81-2.81c.8-.78.8-2.07 0-2.86zM5.41 20L4 18.59l7.72-7.72 1.47 1.35L5.41 20z\"/>\n",
              "  </svg>\n",
              "      </button>\n",
              "      \n",
              "  <style>\n",
              "    .colab-df-container {\n",
              "      display:flex;\n",
              "      flex-wrap:wrap;\n",
              "      gap: 12px;\n",
              "    }\n",
              "\n",
              "    .colab-df-convert {\n",
              "      background-color: #E8F0FE;\n",
              "      border: none;\n",
              "      border-radius: 50%;\n",
              "      cursor: pointer;\n",
              "      display: none;\n",
              "      fill: #1967D2;\n",
              "      height: 32px;\n",
              "      padding: 0 0 0 0;\n",
              "      width: 32px;\n",
              "    }\n",
              "\n",
              "    .colab-df-convert:hover {\n",
              "      background-color: #E2EBFA;\n",
              "      box-shadow: 0px 1px 2px rgba(60, 64, 67, 0.3), 0px 1px 3px 1px rgba(60, 64, 67, 0.15);\n",
              "      fill: #174EA6;\n",
              "    }\n",
              "\n",
              "    [theme=dark] .colab-df-convert {\n",
              "      background-color: #3B4455;\n",
              "      fill: #D2E3FC;\n",
              "    }\n",
              "\n",
              "    [theme=dark] .colab-df-convert:hover {\n",
              "      background-color: #434B5C;\n",
              "      box-shadow: 0px 1px 3px 1px rgba(0, 0, 0, 0.15);\n",
              "      filter: drop-shadow(0px 1px 2px rgba(0, 0, 0, 0.3));\n",
              "      fill: #FFFFFF;\n",
              "    }\n",
              "  </style>\n",
              "\n",
              "      <script>\n",
              "        const buttonEl =\n",
              "          document.querySelector('#df-95fedc9e-bf16-4dfb-a51f-79cc94848b45 button.colab-df-convert');\n",
              "        buttonEl.style.display =\n",
              "          google.colab.kernel.accessAllowed ? 'block' : 'none';\n",
              "\n",
              "        async function convertToInteractive(key) {\n",
              "          const element = document.querySelector('#df-95fedc9e-bf16-4dfb-a51f-79cc94848b45');\n",
              "          const dataTable =\n",
              "            await google.colab.kernel.invokeFunction('convertToInteractive',\n",
              "                                                     [key], {});\n",
              "          if (!dataTable) return;\n",
              "\n",
              "          const docLinkHtml = 'Like what you see? Visit the ' +\n",
              "            '<a target=\"_blank\" href=https://colab.research.google.com/notebooks/data_table.ipynb>data table notebook</a>'\n",
              "            + ' to learn more about interactive tables.';\n",
              "          element.innerHTML = '';\n",
              "          dataTable['output_type'] = 'display_data';\n",
              "          await google.colab.output.renderOutput(dataTable, element);\n",
              "          const docLink = document.createElement('div');\n",
              "          docLink.innerHTML = docLinkHtml;\n",
              "          element.appendChild(docLink);\n",
              "        }\n",
              "      </script>\n",
              "    </div>\n",
              "  </div>\n",
              "  "
            ]
          },
          "metadata": {},
          "execution_count": 61
        }
      ]
    },
    {
      "cell_type": "markdown",
      "source": [
        "Discount and time dimension:"
      ],
      "metadata": {
        "id": "i6RnSeR5xwbO"
      }
    },
    {
      "cell_type": "code",
      "source": [
        "sorted_discounts = p_ol_o.sort_values(by='discount', ascending=False)\n",
        "sorted_discounts[[\"sku\", \"name\", \"unit_price\", \"price\", \"discount\", \"date\"]]"
      ],
      "metadata": {
        "id": "cc4NZcvdx53r"
      },
      "execution_count": null,
      "outputs": []
    },
    {
      "cell_type": "markdown",
      "source": [
        "line chart with two lines (one the sales, and the other one the sum / count of discounts)"
      ],
      "metadata": {
        "id": "K3msvPQRarJH"
      }
    },
    {
      "cell_type": "code",
      "source": [
        "daily_sales = p_ol_o.groupby(p_ol_o['date'].dt.date)['price'].sum()\n",
        "daily_discounts = p_ol_o.groupby(p_ol_o['date'].dt.date)['discount'].count()"
      ],
      "metadata": {
        "id": "gCJfNkEqavw8"
      },
      "execution_count": null,
      "outputs": []
    },
    {
      "cell_type": "code",
      "source": [
        "daily_data = pd.concat([daily_sales, daily_discounts], axis=1).reset_index()\n",
        "daily_data.columns = ['date', 'sales', 'discount_count']"
      ],
      "metadata": {
        "id": "oht_JiWLazsN"
      },
      "execution_count": null,
      "outputs": []
    },
    {
      "cell_type": "code",
      "source": [
        "plt.figure(figsize=(10, 6))\n",
        "plt.plot(daily_data['date'], daily_data['sales'], label='Sales')\n",
        "plt.plot(daily_data['date'], daily_data['discount_count'], label='Discount Count')\n",
        "\n",
        "plt.xlabel('Date')\n",
        "plt.ylabel('Sales & Discount Count')\n",
        "plt.title('Sales and Discounts Over Time')\n",
        "plt.legend()\n",
        "plt.grid(True)\n",
        "plt.show()"
      ],
      "metadata": {
        "colab": {
          "base_uri": "https://localhost:8080/",
          "height": 553
        },
        "id": "IU60mHWqa5WT",
        "outputId": "dfd01d53-5e6d-4da6-9ece-37053d5ed43a"
      },
      "execution_count": null,
      "outputs": [
        {
          "output_type": "display_data",
          "data": {
            "text/plain": [
              "<Figure size 1000x600 with 1 Axes>"
            ],
            "image/png": "[encoded data removed]"
          },
          "metadata": {}
        }
      ]
    }
  ]
}